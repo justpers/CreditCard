{
 "cells": [
  {
   "cell_type": "code",
   "execution_count": 1,
   "id": "bf542483",
   "metadata": {},
   "outputs": [],
   "source": [
    "LGBM_VERSION = 2.0   # submission 화일명에 사용"
   ]
  },
  {
   "cell_type": "code",
   "execution_count": 2,
   "id": "c29482f7",
   "metadata": {},
   "outputs": [],
   "source": [
    "import matplotlib_hangul\n",
    "%matplotlib inline\n",
    "import warnings\n",
    "warnings.filterwarnings(\"ignore\")\n",
    "\n",
    "import pandas as pd\n",
    "import numpy as np\n",
    "import matplotlib.pyplot as plt\n",
    "import seaborn as sns\n",
    "from sklearn.pipeline import Pipeline\n",
    "from sklearn.compose import ColumnTransformer\n",
    "from sklearn.preprocessing import FunctionTransformer\n",
    "from sklearn.base import BaseEstimator, TransformerMixin\n",
    "from sklearn.impute import SimpleImputer\n",
    "from sklearn.impute import KNNImputer\n",
    "from sklearn.preprocessing import PowerTransformer \n",
    "from sklearn.preprocessing import OrdinalEncoder\n",
    "from sklearn.feature_selection import SelectPercentile\n",
    "from sklearn.model_selection import train_test_split, cross_val_score, cross_validate,KFold\n",
    "from sklearn.metrics import mean_squared_error\n",
    "from sklearn import set_config\n",
    "from catboost import CatBoostClassifier\n",
    "from lightgbm import LGBMClassifier\n",
    "import optuna\n",
    "from optuna.distributions import CategoricalDistribution, IntDistribution, FloatDistribution\n",
    "from optuna.integration import OptunaSearchCV, ShapleyImportanceEvaluator\n",
    "from sklearn.metrics import log_loss\n",
    "from sklearn.preprocessing import LabelEncoder\n"
   ]
  },
  {
   "cell_type": "code",
   "execution_count": 3,
   "id": "976c71e9",
   "metadata": {},
   "outputs": [],
   "source": [
    "train = pd.read_csv('data/train.csv', encoding = 'cp949')\n",
    "test = pd.read_csv('data/test.csv', encoding = 'cp949')\n",
    "\n",
    "submission = pd.read_csv('data/sample_submission.csv', encoding = 'cp949')"
   ]
  },
  {
   "cell_type": "code",
   "execution_count": 4,
   "id": "e56a91d0",
   "metadata": {
    "scrolled": true
   },
   "outputs": [
    {
     "data": {
      "text/plain": [
       "(26457, 20)"
      ]
     },
     "metadata": {},
     "output_type": "display_data"
    },
    {
     "data": {
      "text/plain": [
       "(10000, 19)"
      ]
     },
     "metadata": {},
     "output_type": "display_data"
    }
   ],
   "source": [
    "display(train.shape, test.shape)"
   ]
  },
  {
   "cell_type": "code",
   "execution_count": 5,
   "id": "1113653e",
   "metadata": {},
   "outputs": [],
   "source": [
    "# sns.distplot(y_train); plt.show()"
   ]
  },
  {
   "cell_type": "markdown",
   "id": "685ce0e4",
   "metadata": {},
   "source": [
    "## __Data Cleansing__"
   ]
  },
  {
   "cell_type": "code",
   "execution_count": 6,
   "id": "368492b8",
   "metadata": {},
   "outputs": [
    {
     "name": "stdout",
     "output_type": "stream",
     "text": [
      "train data 결측치 비율 \n",
      "\n",
      "column:      index\t Percent of NaN value: 0.00%\n",
      "column:     gender\t Percent of NaN value: 0.00%\n",
      "column:        car\t Percent of NaN value: 0.00%\n",
      "column:    reality\t Percent of NaN value: 0.00%\n",
      "column:  child_num\t Percent of NaN value: 0.00%\n",
      "column: income_total\t Percent of NaN value: 0.00%\n",
      "column: income_type\t Percent of NaN value: 0.00%\n",
      "column:   edu_type\t Percent of NaN value: 0.00%\n",
      "column: family_type\t Percent of NaN value: 0.00%\n",
      "column: house_type\t Percent of NaN value: 0.00%\n",
      "column: DAYS_BIRTH\t Percent of NaN value: 0.00%\n",
      "column: DAYS_EMPLOYED\t Percent of NaN value: 0.00%\n",
      "column: FLAG_MOBIL\t Percent of NaN value: 0.00%\n",
      "column: work_phone\t Percent of NaN value: 0.00%\n",
      "column:      phone\t Percent of NaN value: 0.00%\n",
      "column:      email\t Percent of NaN value: 0.00%\n",
      "column: occyp_type\t Percent of NaN value: 30.88%\n",
      "column: family_size\t Percent of NaN value: 0.00%\n",
      "column: begin_month\t Percent of NaN value: 0.00%\n",
      "column:     credit\t Percent of NaN value: 0.00%\n"
     ]
    }
   ],
   "source": [
    "print('train data 결측치 비율 \\n')\n",
    "\n",
    "for col in train.columns:\n",
    "    msg = 'column: {:>10}\\t Percent of NaN value: {:.2f}%'.format(col, 100 * train[col].isnull().sum() / train[col].shape[0])\n",
    "    print(msg)"
   ]
  },
  {
   "cell_type": "markdown",
   "id": "d99972a4",
   "metadata": {},
   "source": [
    "- train 데이터에 occpy_type에만 30.88% 결측치가 존재함."
   ]
  },
  {
   "cell_type": "code",
   "execution_count": 7,
   "id": "524e6ba9",
   "metadata": {
    "scrolled": true
   },
   "outputs": [
    {
     "name": "stdout",
     "output_type": "stream",
     "text": [
      "test data 결측치 비율 \n",
      "\n",
      "column:      index\t Percent of NaN value: 0.00%\n",
      "column:     gender\t Percent of NaN value: 0.00%\n",
      "column:        car\t Percent of NaN value: 0.00%\n",
      "column:    reality\t Percent of NaN value: 0.00%\n",
      "column:  child_num\t Percent of NaN value: 0.00%\n",
      "column: income_total\t Percent of NaN value: 0.00%\n",
      "column: income_type\t Percent of NaN value: 0.00%\n",
      "column:   edu_type\t Percent of NaN value: 0.00%\n",
      "column: family_type\t Percent of NaN value: 0.00%\n",
      "column: house_type\t Percent of NaN value: 0.00%\n",
      "column: DAYS_BIRTH\t Percent of NaN value: 0.00%\n",
      "column: DAYS_EMPLOYED\t Percent of NaN value: 0.00%\n",
      "column: FLAG_MOBIL\t Percent of NaN value: 0.00%\n",
      "column: work_phone\t Percent of NaN value: 0.00%\n",
      "column:      phone\t Percent of NaN value: 0.00%\n",
      "column:      email\t Percent of NaN value: 0.00%\n",
      "column: occyp_type\t Percent of NaN value: 31.52%\n",
      "column: family_size\t Percent of NaN value: 0.00%\n",
      "column: begin_month\t Percent of NaN value: 0.00%\n"
     ]
    }
   ],
   "source": [
    "print('test data 결측치 비율 \\n')\n",
    "\n",
    "for col in test.columns:\n",
    "    msg = 'column: {:>10}\\t Percent of NaN value: {:.2f}%'.format(col, 100 * test[col].isnull().sum() / test[col].shape[0])\n",
    "    print(msg)"
   ]
  },
  {
   "cell_type": "markdown",
   "id": "b728b412",
   "metadata": {},
   "source": [
    "- test 데이터에 occpy_type에만 31.52% 결측치가 존재함."
   ]
  },
  {
   "cell_type": "code",
   "execution_count": 8,
   "id": "585405d5",
   "metadata": {
    "scrolled": true
   },
   "outputs": [
    {
     "data": {
      "text/plain": [
       "NaN                      8171\n",
       "Laborers                 4512\n",
       "Core staff               2646\n",
       "Sales staff              2539\n",
       "Managers                 2167\n",
       "Drivers                  1575\n",
       "High skill tech staff    1040\n",
       "Accountants               902\n",
       "Medicine staff            864\n",
       "Cooking staff             457\n",
       "Security staff            424\n",
       "Cleaning staff            403\n",
       "Private service staff     243\n",
       "Low-skill Laborers        127\n",
       "Waiters/barmen staff      124\n",
       "Secretaries                97\n",
       "Realty agents              63\n",
       "HR staff                   62\n",
       "IT staff                   41\n",
       "Name: occyp_type, dtype: int64"
      ]
     },
     "execution_count": 8,
     "metadata": {},
     "output_type": "execute_result"
    }
   ],
   "source": [
    "train['occyp_type'].value_counts(dropna=False)"
   ]
  },
  {
   "cell_type": "markdown",
   "id": "92d65700",
   "metadata": {},
   "source": [
    "### 결측치 처리"
   ]
  },
  {
   "cell_type": "code",
   "execution_count": 9,
   "id": "989de902",
   "metadata": {},
   "outputs": [],
   "source": [
    "train.fillna('NaN', inplace=True)\n",
    "test.fillna('NaN', inplace = True)"
   ]
  },
  {
   "cell_type": "code",
   "execution_count": 10,
   "id": "709ece38",
   "metadata": {},
   "outputs": [
    {
     "data": {
      "text/plain": [
       "NaN                      8171\n",
       "Laborers                 4512\n",
       "Core staff               2646\n",
       "Sales staff              2539\n",
       "Managers                 2167\n",
       "Drivers                  1575\n",
       "High skill tech staff    1040\n",
       "Accountants               902\n",
       "Medicine staff            864\n",
       "Cooking staff             457\n",
       "Security staff            424\n",
       "Cleaning staff            403\n",
       "Private service staff     243\n",
       "Low-skill Laborers        127\n",
       "Waiters/barmen staff      124\n",
       "Secretaries                97\n",
       "Realty agents              63\n",
       "HR staff                   62\n",
       "IT staff                   41\n",
       "Name: occyp_type, dtype: int64"
      ]
     },
     "execution_count": 10,
     "metadata": {},
     "output_type": "execute_result"
    }
   ],
   "source": [
    "train['occyp_type'].value_counts(dropna=False)"
   ]
  },
  {
   "cell_type": "markdown",
   "id": "98069e40",
   "metadata": {},
   "source": [
    "## __EDA__"
   ]
  },
  {
   "cell_type": "code",
   "execution_count": 11,
   "id": "be0d0c02",
   "metadata": {},
   "outputs": [
    {
     "name": "stdout",
     "output_type": "stream",
     "text": [
      "<class 'pandas.core.frame.DataFrame'>\n",
      "RangeIndex: 26457 entries, 0 to 26456\n",
      "Data columns (total 20 columns):\n",
      " #   Column         Non-Null Count  Dtype  \n",
      "---  ------         --------------  -----  \n",
      " 0   index          26457 non-null  int64  \n",
      " 1   gender         26457 non-null  object \n",
      " 2   car            26457 non-null  object \n",
      " 3   reality        26457 non-null  object \n",
      " 4   child_num      26457 non-null  int64  \n",
      " 5   income_total   26457 non-null  float64\n",
      " 6   income_type    26457 non-null  object \n",
      " 7   edu_type       26457 non-null  object \n",
      " 8   family_type    26457 non-null  object \n",
      " 9   house_type     26457 non-null  object \n",
      " 10  DAYS_BIRTH     26457 non-null  int64  \n",
      " 11  DAYS_EMPLOYED  26457 non-null  int64  \n",
      " 12  FLAG_MOBIL     26457 non-null  int64  \n",
      " 13  work_phone     26457 non-null  int64  \n",
      " 14  phone          26457 non-null  int64  \n",
      " 15  email          26457 non-null  int64  \n",
      " 16  occyp_type     26457 non-null  object \n",
      " 17  family_size    26457 non-null  float64\n",
      " 18  begin_month    26457 non-null  float64\n",
      " 19  credit         26457 non-null  float64\n",
      "dtypes: float64(4), int64(8), object(8)\n",
      "memory usage: 4.0+ MB\n"
     ]
    }
   ],
   "source": [
    "train.info()"
   ]
  },
  {
   "cell_type": "markdown",
   "id": "f95005be",
   "metadata": {},
   "source": [
    "### 이산형 변수 EDA"
   ]
  },
  {
   "cell_type": "markdown",
   "id": "82bd3d63",
   "metadata": {},
   "source": [
    "- gender, car, reality, income_type, edu_type, family_type, FLAG_MOBIL, work_phone, phone, email,house_type,occyp_type 12개 features \n",
    "\n",
    "- y_train: credit 1개 feature"
   ]
  },
  {
   "cell_type": "code",
   "execution_count": 12,
   "id": "5797ab1a",
   "metadata": {
    "scrolled": false
   },
   "outputs": [
    {
     "data": {
      "image/png": "[encoded data removed]",
      "text/plain": [
       "<Figure size 576x576 with 1 Axes>"
      ]
     },
     "metadata": {},
     "output_type": "display_data"
    }
   ],
   "source": [
    "plt.subplots(figsize = (8,8))\n",
    "plt.pie(train['credit'].value_counts(), labels = train['credit'].value_counts().index, \n",
    "        autopct=\"%.2f%%\", shadow = True, startangle = 90)\n",
    "plt.title('신용 등급 비율', size=20)\n",
    "plt.show()"
   ]
  },
  {
   "cell_type": "markdown",
   "id": "9389b84c",
   "metadata": {},
   "source": [
    "- 0: 신용도가 좋음 \n",
    "- 2: 신용도가 낮음"
   ]
  },
  {
   "cell_type": "markdown",
   "id": "b3e4c2d8",
   "metadata": {},
   "source": [
    "- 2가 많은 것으로 보아 신용도가 낮은 사람들이 많다는 것을 알 수 있음."
   ]
  },
  {
   "cell_type": "code",
   "execution_count": 13,
   "id": "9ea71a8f",
   "metadata": {},
   "outputs": [],
   "source": [
    "# 등급에 따른 차이를 보기 위한 데이터 분류\n",
    "train_0 = train[train['credit']==0.0]\n",
    "train_1 = train[train['credit']==1.0]\n",
    "train_2 = train[train['credit']==2.0]"
   ]
  },
  {
   "cell_type": "markdown",
   "id": "f14b17a2",
   "metadata": {},
   "source": [
    "- 신용 등급에 따른 차이를 알아보기 위해 Categorical 그래프 함수 생성"
   ]
  },
  {
   "cell_type": "code",
   "execution_count": 14,
   "id": "50747bf0",
   "metadata": {},
   "outputs": [],
   "source": [
    "# Categorical 그래프 함수 정의\n",
    "def categorical_plot(column):\n",
    "\n",
    "  f, ax = plt.subplots(1, 3, figsize=(16, 6))\n",
    "\n",
    "\n",
    "  sns.countplot(x = column,\n",
    "                data = train_0,\n",
    "                ax = ax[0],\n",
    "                order = train_0[column].value_counts().index)\n",
    "  ax[0].tick_params(labelsize=12)\n",
    "  ax[0].set_title('credit = 0')\n",
    "  ax[0].set_ylabel('count')\n",
    "  ax[0].tick_params(rotation=50)\n",
    "\n",
    "\n",
    "  sns.countplot(x = column,\n",
    "                data = train_1,\n",
    "                ax = ax[1],\n",
    "                order = train_1[column].value_counts().index)\n",
    "  ax[1].tick_params(labelsize=12)\n",
    "  ax[1].set_title('credit = 1')\n",
    "  ax[1].set_ylabel('count')\n",
    "  ax[1].tick_params(rotation=50)\n",
    "\n",
    "  sns.countplot(x = column,\n",
    "                data = train_2,\n",
    "                ax = ax[2],\n",
    "                order = train_2[column].value_counts().index)\n",
    "  ax[2].tick_params(labelsize=12)\n",
    "  ax[2].set_title('credit = 2')\n",
    "  ax[2].set_ylabel('count')\n",
    "  ax[2].tick_params(rotation=50)\n",
    "  plt.subplots_adjust(wspace=0.3, hspace=0.3)\n",
    "  plt.show()"
   ]
  },
  {
   "cell_type": "code",
   "execution_count": 15,
   "id": "11d94cd6",
   "metadata": {},
   "outputs": [
    {
     "data": {
      "image/png": "[encoded data removed]",
      "text/plain": [
       "<Figure size 1152x432 with 3 Axes>"
      ]
     },
     "metadata": {
      "needs_background": "light"
     },
     "output_type": "display_data"
    }
   ],
   "source": [
    "categorical_plot(\"gender\")"
   ]
  },
  {
   "cell_type": "markdown",
   "id": "0cd334ed",
   "metadata": {},
   "source": [
    "- 모든 등급에서 여성이 더 많다라는 것을 알 수 있음."
   ]
  },
  {
   "cell_type": "code",
   "execution_count": 16,
   "id": "31858829",
   "metadata": {},
   "outputs": [
    {
     "data": {
      "image/png": "[encoded data removed]",
      "text/plain": [
       "<Figure size 1152x432 with 3 Axes>"
      ]
     },
     "metadata": {
      "needs_background": "light"
     },
     "output_type": "display_data"
    }
   ],
   "source": [
    "categorical_plot(\"car\")"
   ]
  },
  {
   "cell_type": "markdown",
   "id": "b3c71260",
   "metadata": {},
   "source": [
    "- 모든 등급에서 차를 갖고 있지 않은 사람들이 더 많음."
   ]
  },
  {
   "cell_type": "code",
   "execution_count": 17,
   "id": "590219d3",
   "metadata": {
    "scrolled": true
   },
   "outputs": [
    {
     "data": {
      "image/png": "[encoded data removed]",
      "text/plain": [
       "<Figure size 1152x432 with 3 Axes>"
      ]
     },
     "metadata": {
      "needs_background": "light"
     },
     "output_type": "display_data"
    }
   ],
   "source": [
    "categorical_plot(\"reality\")"
   ]
  },
  {
   "cell_type": "markdown",
   "id": "c137952c",
   "metadata": {},
   "source": [
    "- 모든 등급에서 부동산을 소유한 사람들이 더 많음."
   ]
  },
  {
   "cell_type": "code",
   "execution_count": 18,
   "id": "ad374dca",
   "metadata": {
    "scrolled": true
   },
   "outputs": [
    {
     "data": {
      "image/png": "[encoded data removed]",
      "text/plain": [
       "<Figure size 1152x432 with 3 Axes>"
      ]
     },
     "metadata": {
      "needs_background": "light"
     },
     "output_type": "display_data"
    }
   ],
   "source": [
    "categorical_plot(\"income_type\")"
   ]
  },
  {
   "cell_type": "markdown",
   "id": "5bc16821",
   "metadata": {},
   "source": [
    "- 모든 등급에서 직장인들이 더 많음.\n",
    "\n",
    "- credit 0 (신용등급이 높은 등급)에서는 Student가 존재하지 않음.\n",
    "\n",
    "- Credit 1, 2 (신용등급이 낮은 등급)에서는 Student가 아주 조금 존재함."
   ]
  },
  {
   "cell_type": "code",
   "execution_count": 19,
   "id": "ce8f0853",
   "metadata": {},
   "outputs": [
    {
     "data": {
      "image/png": "[encoded data removed]",
      "text/plain": [
       "<Figure size 1152x432 with 3 Axes>"
      ]
     },
     "metadata": {
      "needs_background": "light"
     },
     "output_type": "display_data"
    }
   ],
   "source": [
    "categorical_plot(\"edu_type\")"
   ]
  },
  {
   "cell_type": "markdown",
   "id": "2c23be8e",
   "metadata": {},
   "source": [
    "- 모든 등급에서 교육 수준의 순위가 같음."
   ]
  },
  {
   "cell_type": "markdown",
   "id": "1c826ef4",
   "metadata": {},
   "source": [
    "- Secondary / Secondary special : 중등 특수 교육\n",
    "- Higher education : 고등 교육\n",
    "- Incomplete higher : 대학에서 전체 과정을 이수하지 않았고 수료증을 받지 못했다는 것을 의미\n",
    "- Lower secondary : 7th ~ 9th grades 중등교육\n",
    "- Academic degree : 학사학위"
   ]
  },
  {
   "cell_type": "markdown",
   "id": "b9a89872",
   "metadata": {},
   "source": [
    "- 미국의 고등학생은 졸업 이후의 진로를 대학 진학과 취업 사이에서 결정함 그리고 스스로에게 필요한 수업을 선택하여 수강함."
   ]
  },
  {
   "cell_type": "code",
   "execution_count": 20,
   "id": "ee15ea27",
   "metadata": {},
   "outputs": [
    {
     "data": {
      "image/png": "[encoded data removed]",
      "text/plain": [
       "<Figure size 1152x432 with 3 Axes>"
      ]
     },
     "metadata": {
      "needs_background": "light"
     },
     "output_type": "display_data"
    }
   ],
   "source": [
    "categorical_plot(\"family_type\")"
   ]
  },
  {
   "cell_type": "markdown",
   "id": "5d171c4d",
   "metadata": {},
   "source": [
    "- 모든 등급에서 결혼한 사람들이 가장 많음."
   ]
  },
  {
   "cell_type": "markdown",
   "id": "5a1d66a5",
   "metadata": {},
   "source": [
    "- married: 결혼 \n",
    "- single/not married : 미혼\n",
    "- civil_marriage : 종교 의식을 하지 않는 결혼\n",
    "- separated : 이혼 (배우자와 헤어진 뒤 재혼하지 않고 혼자 살고 있는 사람)\n",
    "- widow : 사별 (배우자 중 한쪽이 사망한 뒤 재혼하지 않고 혼자 살고 있는 사람)"
   ]
  },
  {
   "cell_type": "code",
   "execution_count": 21,
   "id": "f390aacb",
   "metadata": {},
   "outputs": [
    {
     "data": {
      "image/png": "[encoded data removed]",
      "text/plain": [
       "<Figure size 1152x432 with 3 Axes>"
      ]
     },
     "metadata": {
      "needs_background": "light"
     },
     "output_type": "display_data"
    }
   ],
   "source": [
    "categorical_plot(\"house_type\")"
   ]
  },
  {
   "cell_type": "markdown",
   "id": "319c4c32",
   "metadata": {},
   "source": [
    "- house / apartment\n",
    "- with parent\n",
    "- Municipal apartment\n",
    "- Rented apartment\n",
    "- Office apartment\n",
    "- Co-op apartment"
   ]
  },
  {
   "cell_type": "markdown",
   "id": "c931e382",
   "metadata": {},
   "source": [
    "- 모든 등급에서 순서가 같고, house / aprartment를 가진 사람들이 모든 등급에서 제일 높음."
   ]
  },
  {
   "cell_type": "code",
   "execution_count": 22,
   "id": "7a738cdd",
   "metadata": {},
   "outputs": [
    {
     "data": {
      "image/png": "[encoded data removed]",
      "text/plain": [
       "<Figure size 1152x432 with 3 Axes>"
      ]
     },
     "metadata": {
      "needs_background": "light"
     },
     "output_type": "display_data"
    }
   ],
   "source": [
    "categorical_plot(\"FLAG_MOBIL\") # 변수 제거해도 될듯"
   ]
  },
  {
   "cell_type": "markdown",
   "id": "be1babcf",
   "metadata": {},
   "source": [
    "- FLAG_MOBIL은 핸드폰 소유 여부\n",
    "\n",
    "- 모든 사람들이 휴대폰을 소유하고 있음."
   ]
  },
  {
   "cell_type": "code",
   "execution_count": 23,
   "id": "91711279",
   "metadata": {},
   "outputs": [
    {
     "data": {
      "image/png": "[encoded data removed]",
      "text/plain": [
       "<Figure size 1152x432 with 3 Axes>"
      ]
     },
     "metadata": {
      "needs_background": "light"
     },
     "output_type": "display_data"
    }
   ],
   "source": [
    "categorical_plot(\"work_phone\")"
   ]
  },
  {
   "cell_type": "markdown",
   "id": "7d7a1a40",
   "metadata": {},
   "source": [
    "- work_phone : 업무용 전화 소유 여부\n",
    "    \n",
    "- 모든 등급에서 업무용 전화를 소유하지 않는 사람들이 더 많음."
   ]
  },
  {
   "cell_type": "code",
   "execution_count": 24,
   "id": "30f3170f",
   "metadata": {},
   "outputs": [
    {
     "data": {
      "image/png": "[encoded data removed]",
      "text/plain": [
       "<Figure size 1152x432 with 3 Axes>"
      ]
     },
     "metadata": {
      "needs_background": "light"
     },
     "output_type": "display_data"
    }
   ],
   "source": [
    "categorical_plot(\"phone\")"
   ]
  },
  {
   "cell_type": "markdown",
   "id": "e6265f0d",
   "metadata": {},
   "source": [
    "- phone: 전화 소유 여부\n",
    "- 모든 등급에서 가정용 전화를 소유하지 않는 사람들이 더 많음."
   ]
  },
  {
   "cell_type": "code",
   "execution_count": 25,
   "id": "cefb1871",
   "metadata": {},
   "outputs": [
    {
     "data": {
      "image/png": "[encoded data removed]",
      "text/plain": [
       "<Figure size 1152x432 with 3 Axes>"
      ]
     },
     "metadata": {
      "needs_background": "light"
     },
     "output_type": "display_data"
    }
   ],
   "source": [
    "categorical_plot(\"email\")"
   ]
  },
  {
   "cell_type": "markdown",
   "id": "a29d2aa6",
   "metadata": {},
   "source": [
    "- email : 이메일 소유 여부\n",
    "- 모든 등급에서 이메일을 소유하지 않는 사람들이 더 많음. "
   ]
  },
  {
   "cell_type": "code",
   "execution_count": 26,
   "id": "70bbedbe",
   "metadata": {
    "scrolled": true
   },
   "outputs": [
    {
     "data": {
      "image/png": "[encoded data removed]",
      "text/plain": [
       "<Figure size 1152x432 with 3 Axes>"
      ]
     },
     "metadata": {
      "needs_background": "light"
     },
     "output_type": "display_data"
    }
   ],
   "source": [
    "categorical_plot(\"occyp_type\")"
   ]
  },
  {
   "cell_type": "markdown",
   "id": "bc4f08e4",
   "metadata": {},
   "source": [
    "### 연속형 변수 EDA"
   ]
  },
  {
   "cell_type": "markdown",
   "id": "2d29342b",
   "metadata": {},
   "source": [
    "- child_num, income_total, DAYS_BIRTH, DAYS_EMPLOYED, family_size, begin_month 6개 features"
   ]
  },
  {
   "cell_type": "code",
   "execution_count": 27,
   "id": "0456c745",
   "metadata": {},
   "outputs": [],
   "source": [
    "# Numerical 그래프 함수 정의\n",
    "def numerical_plot(column):\n",
    "  \n",
    "  fig, axes = plt.subplots(1, 3, figsize=(16, 6))\n",
    "\n",
    "\n",
    "  sns.distplot(train_0[column],\n",
    "                ax = axes[0])\n",
    "  axes[0].tick_params(labelsize=12)\n",
    "  axes[0].set_title('credit = 0')\n",
    "  axes[0].set_ylabel('count')\n",
    "\n",
    "  sns.distplot(train_1[column],\n",
    "                ax = axes[1])\n",
    "  axes[1].tick_params(labelsize=12)\n",
    "  axes[1].set_title('credit = 1')\n",
    "  axes[1].set_ylabel('count')\n",
    "\n",
    "  sns.distplot(train_2[column],\n",
    "                ax = axes[2])\n",
    "  axes[2].tick_params(labelsize=12)\n",
    "  axes[2].set_title('credit = 2')\n",
    "  axes[2].set_ylabel('count')\n",
    "  plt.subplots_adjust(wspace=0.3, hspace=0.3)"
   ]
  },
  {
   "cell_type": "code",
   "execution_count": 28,
   "id": "05cfc28a",
   "metadata": {},
   "outputs": [
    {
     "data": {
      "image/png": "[encoded data removed]",
      "text/plain": [
       "<Figure size 1152x432 with 3 Axes>"
      ]
     },
     "metadata": {
      "needs_background": "light"
     },
     "output_type": "display_data"
    }
   ],
   "source": [
    "numerical_plot(\"child_num\")"
   ]
  },
  {
   "cell_type": "markdown",
   "id": "30ebf9bc",
   "metadata": {},
   "source": [
    "- 신용등급이 높은 2에서 자녀의 수가 0~2개가 가장 많음.\n",
    "- 신용등급에 따라 자녀수의 차이는 존재하지 않는 것으로 보임."
   ]
  },
  {
   "cell_type": "code",
   "execution_count": 29,
   "id": "50f647dd",
   "metadata": {},
   "outputs": [
    {
     "data": {
      "image/png": "[encoded data removed]",
      "text/plain": [
       "<Figure size 1152x432 with 3 Axes>"
      ]
     },
     "metadata": {
      "needs_background": "light"
     },
     "output_type": "display_data"
    }
   ],
   "source": [
    "numerical_plot(\"income_total\")"
   ]
  },
  {
   "cell_type": "markdown",
   "id": "d3ca2e9b",
   "metadata": {},
   "source": [
    "- 신용 등급에 따라 연간 소득의 차이는 존재하지 않는 것으로 보임."
   ]
  },
  {
   "cell_type": "code",
   "execution_count": 30,
   "id": "80ce2a1d",
   "metadata": {
    "scrolled": true
   },
   "outputs": [
    {
     "data": {
      "image/png": "[encoded data removed]",
      "text/plain": [
       "<Figure size 1152x432 with 3 Axes>"
      ]
     },
     "metadata": {
      "needs_background": "light"
     },
     "output_type": "display_data"
    }
   ],
   "source": [
    "numerical_plot(\"family_size\")"
   ]
  },
  {
   "cell_type": "markdown",
   "id": "82e846c0",
   "metadata": {},
   "source": [
    "- 신용도가 높은 등급에서는 왼쪽으로 치우친 그래프임.\n",
    "- 모든 등급에서 보통 가족 수가 2명인 사람들이 많음."
   ]
  },
  {
   "cell_type": "code",
   "execution_count": 31,
   "id": "157f9b7c",
   "metadata": {},
   "outputs": [
    {
     "data": {
      "text/plain": [
       "2.0     14106\n",
       "1.0      5109\n",
       "3.0      4632\n",
       "4.0      2260\n",
       "5.0       291\n",
       "6.0        44\n",
       "7.0         9\n",
       "15.0        3\n",
       "9.0         2\n",
       "20.0        1\n",
       "Name: family_size, dtype: int64"
      ]
     },
     "execution_count": 31,
     "metadata": {},
     "output_type": "execute_result"
    }
   ],
   "source": [
    "train['family_size'].value_counts()"
   ]
  },
  {
   "cell_type": "code",
   "execution_count": 32,
   "id": "80aa9928",
   "metadata": {
    "scrolled": true
   },
   "outputs": [
    {
     "data": {
      "text/plain": [
       "2.0    5357\n",
       "1.0    1878\n",
       "3.0    1789\n",
       "4.0     846\n",
       "5.0     106\n",
       "6.0      14\n",
       "7.0      10\n",
       "Name: family_size, dtype: int64"
      ]
     },
     "execution_count": 32,
     "metadata": {},
     "output_type": "execute_result"
    }
   ],
   "source": [
    "test['family_size'].value_counts()"
   ]
  },
  {
   "cell_type": "markdown",
   "id": "e186e30a",
   "metadata": {},
   "source": [
    "test셋에는 7이하까지만 있으므로 \n",
    "train 데이터셋에 7 이상인 것들은 제거해준다."
   ]
  },
  {
   "cell_type": "markdown",
   "id": "255cacda",
   "metadata": {},
   "source": [
    "### 이상치 처리"
   ]
  },
  {
   "cell_type": "code",
   "execution_count": 33,
   "id": "cd7f83a0",
   "metadata": {},
   "outputs": [],
   "source": [
    "train = train[(train['family_size'] <= 7)]\n",
    "train = train.reset_index(drop=True)"
   ]
  },
  {
   "cell_type": "code",
   "execution_count": 34,
   "id": "e6d0d5e5",
   "metadata": {},
   "outputs": [
    {
     "data": {
      "text/plain": [
       "2.0    14106\n",
       "1.0     5109\n",
       "3.0     4632\n",
       "4.0     2260\n",
       "5.0      291\n",
       "6.0       44\n",
       "7.0        9\n",
       "Name: family_size, dtype: int64"
      ]
     },
     "execution_count": 34,
     "metadata": {},
     "output_type": "execute_result"
    }
   ],
   "source": [
    "train['family_size'].value_counts()"
   ]
  },
  {
   "cell_type": "code",
   "execution_count": 35,
   "id": "990be9e8",
   "metadata": {},
   "outputs": [
    {
     "data": {
      "text/plain": [
       "(26451, 20)"
      ]
     },
     "execution_count": 35,
     "metadata": {},
     "output_type": "execute_result"
    }
   ],
   "source": [
    "train.shape"
   ]
  },
  {
   "cell_type": "code",
   "execution_count": 36,
   "id": "9dae639e",
   "metadata": {},
   "outputs": [
    {
     "name": "stdout",
     "output_type": "stream",
     "text": [
      "<class 'pandas.core.frame.DataFrame'>\n",
      "RangeIndex: 26451 entries, 0 to 26450\n",
      "Data columns (total 20 columns):\n",
      " #   Column         Non-Null Count  Dtype  \n",
      "---  ------         --------------  -----  \n",
      " 0   index          26451 non-null  int64  \n",
      " 1   gender         26451 non-null  object \n",
      " 2   car            26451 non-null  object \n",
      " 3   reality        26451 non-null  object \n",
      " 4   child_num      26451 non-null  int64  \n",
      " 5   income_total   26451 non-null  float64\n",
      " 6   income_type    26451 non-null  object \n",
      " 7   edu_type       26451 non-null  object \n",
      " 8   family_type    26451 non-null  object \n",
      " 9   house_type     26451 non-null  object \n",
      " 10  DAYS_BIRTH     26451 non-null  int64  \n",
      " 11  DAYS_EMPLOYED  26451 non-null  int64  \n",
      " 12  FLAG_MOBIL     26451 non-null  int64  \n",
      " 13  work_phone     26451 non-null  int64  \n",
      " 14  phone          26451 non-null  int64  \n",
      " 15  email          26451 non-null  int64  \n",
      " 16  occyp_type     26451 non-null  object \n",
      " 17  family_size    26451 non-null  float64\n",
      " 18  begin_month    26451 non-null  float64\n",
      " 19  credit         26451 non-null  float64\n",
      "dtypes: float64(4), int64(8), object(8)\n",
      "memory usage: 4.0+ MB\n"
     ]
    }
   ],
   "source": [
    "train.info()"
   ]
  },
  {
   "cell_type": "markdown",
   "id": "fba59dc5",
   "metadata": {},
   "source": [
    "### X_train, y_train, X_test로 나눔"
   ]
  },
  {
   "cell_type": "code",
   "execution_count": 37,
   "id": "31690288",
   "metadata": {},
   "outputs": [],
   "source": [
    "X_train = train.iloc[:,:-1]\n",
    "y_train = train.iloc[:, -1]\n",
    "\n",
    "X_train = X_train.drop(columns = ['FLAG_MOBIL'])\n",
    "\n",
    "X_test = test\n",
    "test_id = X_test.index\n",
    "X_test = test.drop(columns = ['FLAG_MOBIL'])"
   ]
  },
  {
   "cell_type": "code",
   "execution_count": 38,
   "id": "ce824291",
   "metadata": {},
   "outputs": [
    {
     "data": {
      "text/plain": [
       "((26451, 18), (26451,))"
      ]
     },
     "execution_count": 38,
     "metadata": {},
     "output_type": "execute_result"
    }
   ],
   "source": [
    "X_train.shape, y_train.shape"
   ]
  },
  {
   "cell_type": "markdown",
   "id": "9cfdad97",
   "metadata": {},
   "source": [
    "### 중복값 처리"
   ]
  },
  {
   "cell_type": "code",
   "execution_count": 39,
   "id": "4688a5e9",
   "metadata": {},
   "outputs": [],
   "source": [
    "X_train_cp = X_train.copy()\n",
    "X_test_cp = X_test.copy()"
   ]
  },
  {
   "cell_type": "code",
   "execution_count": 40,
   "id": "da8fd403",
   "metadata": {},
   "outputs": [],
   "source": [
    "X = pd.concat([X_train_cp,X_test_cp])"
   ]
  },
  {
   "cell_type": "code",
   "execution_count": 41,
   "id": "9f86b8b0",
   "metadata": {},
   "outputs": [
    {
     "data": {
      "text/plain": [
       "(26451, 16)"
      ]
     },
     "execution_count": 41,
     "metadata": {},
     "output_type": "execute_result"
    }
   ],
   "source": [
    "X_train.drop(columns=['begin_month','index']).shape"
   ]
  },
  {
   "cell_type": "code",
   "execution_count": 42,
   "id": "52fc0665",
   "metadata": {},
   "outputs": [
    {
     "data": {
      "text/plain": [
       "(8756, 16)"
      ]
     },
     "execution_count": 42,
     "metadata": {},
     "output_type": "execute_result"
    }
   ],
   "source": [
    "X_train.drop(columns=['begin_month','index']).drop_duplicates().shape"
   ]
  },
  {
   "cell_type": "code",
   "execution_count": 43,
   "id": "c09d83fa",
   "metadata": {},
   "outputs": [],
   "source": [
    "X = X.astype('str')"
   ]
  },
  {
   "cell_type": "code",
   "execution_count": 44,
   "id": "b889c30f",
   "metadata": {},
   "outputs": [],
   "source": [
    "X['new'] = X['child_num']+X['income_total']+X['DAYS_BIRTH']+X['DAYS_EMPLOYED']+X['family_size']+X['gender']+X['car'] + \\\n",
    "    X['reality']+X['income_type']+X['edu_type']+X['family_size'] + \\\n",
    "    X['house_type']+X['work_phone']+X['phone']+X['email']+X['occyp_type']"
   ]
  },
  {
   "cell_type": "code",
   "execution_count": 45,
   "id": "b05f60d1",
   "metadata": {},
   "outputs": [],
   "source": [
    "X.drop(columns=['child_num', 'income_total' , 'DAYS_BIRTH', 'DAYS_EMPLOYED', 'family_size','gender' , 'car', 'reality', 'income_type', 'edu_type', 'family_type', 'house_type',  'work_phone', 'phone', 'email', 'occyp_type'],inplace=True)"
   ]
  },
  {
   "cell_type": "code",
   "execution_count": 46,
   "id": "accabbdd",
   "metadata": {},
   "outputs": [],
   "source": [
    "X.loc[:, 'new_factorize'] = pd.factorize(X['new'])[0].reshape(-1, 1)"
   ]
  },
  {
   "cell_type": "code",
   "execution_count": 47,
   "id": "d8e3f8fe",
   "metadata": {},
   "outputs": [
    {
     "data": {
      "text/plain": [
       "130     51\n",
       "727     35\n",
       "385     32\n",
       "1255    28\n",
       "1013    25\n",
       "        ..\n",
       "7368     1\n",
       "2409     1\n",
       "7372     1\n",
       "7373     1\n",
       "9704     1\n",
       "Name: new_factorize, Length: 9705, dtype: int64"
      ]
     },
     "execution_count": 47,
     "metadata": {},
     "output_type": "execute_result"
    }
   ],
   "source": [
    "X['new_factorize'].value_counts()"
   ]
  },
  {
   "cell_type": "code",
   "execution_count": 48,
   "id": "8f8bde4e",
   "metadata": {},
   "outputs": [],
   "source": [
    "X_train_cp = X.iloc[:X_train.shape[0],:]\n",
    "X_test_cp = X.iloc[X_train.shape[0]:,:]"
   ]
  },
  {
   "cell_type": "code",
   "execution_count": 49,
   "id": "90340d8b",
   "metadata": {},
   "outputs": [],
   "source": [
    "X_train['id'] = X_train_cp['new_factorize']\n",
    "X_test['id'] = X_test_cp['new_factorize']"
   ]
  },
  {
   "cell_type": "code",
   "execution_count": 50,
   "id": "e76237b1",
   "metadata": {},
   "outputs": [],
   "source": [
    "X_train.drop(columns='index', inplace=True)\n",
    "X_test.drop(columns='index', inplace=True)"
   ]
  },
  {
   "cell_type": "markdown",
   "id": "2162526b",
   "metadata": {},
   "source": [
    "## __Feature Engineering__"
   ]
  },
  {
   "cell_type": "markdown",
   "id": "8b9b1248",
   "metadata": {},
   "source": [
    "### DAYS_EMPLOYED"
   ]
  },
  {
   "cell_type": "markdown",
   "id": "ca69e16c",
   "metadata": {},
   "source": [
    "- 양수값은 고용되지 않은 상태를 의미하므로 무직자라고 생각함. 0으로 처리하기"
   ]
  },
  {
   "cell_type": "code",
   "execution_count": 51,
   "id": "cf90890b",
   "metadata": {},
   "outputs": [],
   "source": [
    "X_train['DAYS_EMPLOYED'] = X_train['DAYS_EMPLOYED'].map(lambda x:0 if x >0 else x)\n",
    "X_test['DAYS_EMPLOYED'] = X_test['DAYS_EMPLOYED'].map(lambda x:0 if x >0 else x)"
   ]
  },
  {
   "cell_type": "markdown",
   "id": "e1e27a7a",
   "metadata": {},
   "source": [
    "### DAYS_BIRTH, DAYS_EMPLOYED, begin_month \n",
    "- 음수값 -> 양수값으로 변환하기"
   ]
  },
  {
   "cell_type": "code",
   "execution_count": 52,
   "id": "0b9be17d",
   "metadata": {},
   "outputs": [],
   "source": [
    "new_features = ['DAYS_BIRTH', 'DAYS_EMPLOYED', 'begin_month']\n",
    "for features in new_features:\n",
    "    X_train[features] = np.abs(X_train[features])\n",
    "    X_test[features] = np.abs(X_test[features])"
   ]
  },
  {
   "cell_type": "code",
   "execution_count": 53,
   "id": "ec48e2f0",
   "metadata": {},
   "outputs": [
    {
     "data": {
      "text/html": [
       "<div>\n",
       "<style scoped>\n",
       "    .dataframe tbody tr th:only-of-type {\n",
       "        vertical-align: middle;\n",
       "    }\n",
       "\n",
       "    .dataframe tbody tr th {\n",
       "        vertical-align: top;\n",
       "    }\n",
       "\n",
       "    .dataframe thead th {\n",
       "        text-align: right;\n",
       "    }\n",
       "</style>\n",
       "<table border=\"1\" class=\"dataframe\">\n",
       "  <thead>\n",
       "    <tr style=\"text-align: right;\">\n",
       "      <th></th>\n",
       "      <th>gender</th>\n",
       "      <th>car</th>\n",
       "      <th>reality</th>\n",
       "      <th>child_num</th>\n",
       "      <th>income_total</th>\n",
       "      <th>income_type</th>\n",
       "      <th>edu_type</th>\n",
       "      <th>family_type</th>\n",
       "      <th>house_type</th>\n",
       "      <th>DAYS_BIRTH</th>\n",
       "      <th>DAYS_EMPLOYED</th>\n",
       "      <th>work_phone</th>\n",
       "      <th>phone</th>\n",
       "      <th>email</th>\n",
       "      <th>occyp_type</th>\n",
       "      <th>family_size</th>\n",
       "      <th>begin_month</th>\n",
       "      <th>id</th>\n",
       "    </tr>\n",
       "  </thead>\n",
       "  <tbody>\n",
       "    <tr>\n",
       "      <th>0</th>\n",
       "      <td>F</td>\n",
       "      <td>N</td>\n",
       "      <td>N</td>\n",
       "      <td>0</td>\n",
       "      <td>202500.0</td>\n",
       "      <td>Commercial associate</td>\n",
       "      <td>Higher education</td>\n",
       "      <td>Married</td>\n",
       "      <td>Municipal apartment</td>\n",
       "      <td>13899</td>\n",
       "      <td>4709</td>\n",
       "      <td>0</td>\n",
       "      <td>0</td>\n",
       "      <td>0</td>\n",
       "      <td>NaN</td>\n",
       "      <td>2.0</td>\n",
       "      <td>6.0</td>\n",
       "      <td>0</td>\n",
       "    </tr>\n",
       "    <tr>\n",
       "      <th>1</th>\n",
       "      <td>F</td>\n",
       "      <td>N</td>\n",
       "      <td>Y</td>\n",
       "      <td>1</td>\n",
       "      <td>247500.0</td>\n",
       "      <td>Commercial associate</td>\n",
       "      <td>Secondary / secondary special</td>\n",
       "      <td>Civil marriage</td>\n",
       "      <td>House / apartment</td>\n",
       "      <td>11380</td>\n",
       "      <td>1540</td>\n",
       "      <td>0</td>\n",
       "      <td>0</td>\n",
       "      <td>1</td>\n",
       "      <td>Laborers</td>\n",
       "      <td>3.0</td>\n",
       "      <td>5.0</td>\n",
       "      <td>1</td>\n",
       "    </tr>\n",
       "    <tr>\n",
       "      <th>2</th>\n",
       "      <td>M</td>\n",
       "      <td>Y</td>\n",
       "      <td>Y</td>\n",
       "      <td>0</td>\n",
       "      <td>450000.0</td>\n",
       "      <td>Working</td>\n",
       "      <td>Higher education</td>\n",
       "      <td>Married</td>\n",
       "      <td>House / apartment</td>\n",
       "      <td>19087</td>\n",
       "      <td>4434</td>\n",
       "      <td>0</td>\n",
       "      <td>1</td>\n",
       "      <td>0</td>\n",
       "      <td>Managers</td>\n",
       "      <td>2.0</td>\n",
       "      <td>22.0</td>\n",
       "      <td>2</td>\n",
       "    </tr>\n",
       "    <tr>\n",
       "      <th>3</th>\n",
       "      <td>F</td>\n",
       "      <td>N</td>\n",
       "      <td>Y</td>\n",
       "      <td>0</td>\n",
       "      <td>202500.0</td>\n",
       "      <td>Commercial associate</td>\n",
       "      <td>Secondary / secondary special</td>\n",
       "      <td>Married</td>\n",
       "      <td>House / apartment</td>\n",
       "      <td>15088</td>\n",
       "      <td>2092</td>\n",
       "      <td>0</td>\n",
       "      <td>1</td>\n",
       "      <td>0</td>\n",
       "      <td>Sales staff</td>\n",
       "      <td>2.0</td>\n",
       "      <td>37.0</td>\n",
       "      <td>3</td>\n",
       "    </tr>\n",
       "    <tr>\n",
       "      <th>4</th>\n",
       "      <td>F</td>\n",
       "      <td>Y</td>\n",
       "      <td>Y</td>\n",
       "      <td>0</td>\n",
       "      <td>157500.0</td>\n",
       "      <td>State servant</td>\n",
       "      <td>Higher education</td>\n",
       "      <td>Married</td>\n",
       "      <td>House / apartment</td>\n",
       "      <td>15037</td>\n",
       "      <td>2105</td>\n",
       "      <td>0</td>\n",
       "      <td>0</td>\n",
       "      <td>0</td>\n",
       "      <td>Managers</td>\n",
       "      <td>2.0</td>\n",
       "      <td>26.0</td>\n",
       "      <td>4</td>\n",
       "    </tr>\n",
       "  </tbody>\n",
       "</table>\n",
       "</div>"
      ],
      "text/plain": [
       "  gender car reality  child_num  income_total           income_type  \\\n",
       "0      F   N       N          0      202500.0  Commercial associate   \n",
       "1      F   N       Y          1      247500.0  Commercial associate   \n",
       "2      M   Y       Y          0      450000.0               Working   \n",
       "3      F   N       Y          0      202500.0  Commercial associate   \n",
       "4      F   Y       Y          0      157500.0         State servant   \n",
       "\n",
       "                        edu_type     family_type           house_type  \\\n",
       "0               Higher education         Married  Municipal apartment   \n",
       "1  Secondary / secondary special  Civil marriage    House / apartment   \n",
       "2               Higher education         Married    House / apartment   \n",
       "3  Secondary / secondary special         Married    House / apartment   \n",
       "4               Higher education         Married    House / apartment   \n",
       "\n",
       "   DAYS_BIRTH  DAYS_EMPLOYED  work_phone  phone  email   occyp_type  \\\n",
       "0       13899           4709           0      0      0          NaN   \n",
       "1       11380           1540           0      0      1     Laborers   \n",
       "2       19087           4434           0      1      0     Managers   \n",
       "3       15088           2092           0      1      0  Sales staff   \n",
       "4       15037           2105           0      0      0     Managers   \n",
       "\n",
       "   family_size  begin_month  id  \n",
       "0          2.0          6.0   0  \n",
       "1          3.0          5.0   1  \n",
       "2          2.0         22.0   2  \n",
       "3          2.0         37.0   3  \n",
       "4          2.0         26.0   4  "
      ]
     },
     "execution_count": 53,
     "metadata": {},
     "output_type": "execute_result"
    }
   ],
   "source": [
    "X_train.head()"
   ]
  },
  {
   "cell_type": "markdown",
   "id": "fdeca688",
   "metadata": {},
   "source": [
    "- 양수값으로 잘 변환한것을 알 수 있음."
   ]
  },
  {
   "cell_type": "markdown",
   "id": "c64e1b05",
   "metadata": {},
   "source": [
    "### 'age' Feauture 생성 -> DAYS_BIRTH으로 변환 작업"
   ]
  },
  {
   "cell_type": "code",
   "execution_count": 54,
   "id": "89281329",
   "metadata": {},
   "outputs": [
    {
     "data": {
      "text/html": [
       "<div>\n",
       "<style scoped>\n",
       "    .dataframe tbody tr th:only-of-type {\n",
       "        vertical-align: middle;\n",
       "    }\n",
       "\n",
       "    .dataframe tbody tr th {\n",
       "        vertical-align: top;\n",
       "    }\n",
       "\n",
       "    .dataframe thead th {\n",
       "        text-align: right;\n",
       "    }\n",
       "</style>\n",
       "<table border=\"1\" class=\"dataframe\">\n",
       "  <thead>\n",
       "    <tr style=\"text-align: right;\">\n",
       "      <th></th>\n",
       "      <th>gender</th>\n",
       "      <th>car</th>\n",
       "      <th>reality</th>\n",
       "      <th>child_num</th>\n",
       "      <th>income_total</th>\n",
       "      <th>income_type</th>\n",
       "      <th>edu_type</th>\n",
       "      <th>family_type</th>\n",
       "      <th>house_type</th>\n",
       "      <th>DAYS_BIRTH</th>\n",
       "      <th>DAYS_EMPLOYED</th>\n",
       "      <th>work_phone</th>\n",
       "      <th>phone</th>\n",
       "      <th>email</th>\n",
       "      <th>occyp_type</th>\n",
       "      <th>family_size</th>\n",
       "      <th>begin_month</th>\n",
       "      <th>id</th>\n",
       "      <th>age</th>\n",
       "    </tr>\n",
       "  </thead>\n",
       "  <tbody>\n",
       "    <tr>\n",
       "      <th>0</th>\n",
       "      <td>F</td>\n",
       "      <td>N</td>\n",
       "      <td>N</td>\n",
       "      <td>0</td>\n",
       "      <td>202500.0</td>\n",
       "      <td>Commercial associate</td>\n",
       "      <td>Higher education</td>\n",
       "      <td>Married</td>\n",
       "      <td>Municipal apartment</td>\n",
       "      <td>13899</td>\n",
       "      <td>4709</td>\n",
       "      <td>0</td>\n",
       "      <td>0</td>\n",
       "      <td>0</td>\n",
       "      <td>NaN</td>\n",
       "      <td>2.0</td>\n",
       "      <td>6.0</td>\n",
       "      <td>0</td>\n",
       "      <td>38</td>\n",
       "    </tr>\n",
       "  </tbody>\n",
       "</table>\n",
       "</div>"
      ],
      "text/plain": [
       "  gender car reality  child_num  income_total           income_type  \\\n",
       "0      F   N       N          0      202500.0  Commercial associate   \n",
       "\n",
       "           edu_type family_type           house_type  DAYS_BIRTH  \\\n",
       "0  Higher education     Married  Municipal apartment       13899   \n",
       "\n",
       "   DAYS_EMPLOYED  work_phone  phone  email occyp_type  family_size  \\\n",
       "0           4709           0      0      0        NaN          2.0   \n",
       "\n",
       "   begin_month  id  age  \n",
       "0          6.0   0   38  "
      ]
     },
     "execution_count": 54,
     "metadata": {},
     "output_type": "execute_result"
    }
   ],
   "source": [
    "X_train['age'] = round(X_train['DAYS_BIRTH']/365,0).astype(np.int32)\n",
    "X_train.head(1)"
   ]
  },
  {
   "cell_type": "code",
   "execution_count": 55,
   "id": "e280cd4a",
   "metadata": {},
   "outputs": [
    {
     "data": {
      "text/html": [
       "<div>\n",
       "<style scoped>\n",
       "    .dataframe tbody tr th:only-of-type {\n",
       "        vertical-align: middle;\n",
       "    }\n",
       "\n",
       "    .dataframe tbody tr th {\n",
       "        vertical-align: top;\n",
       "    }\n",
       "\n",
       "    .dataframe thead th {\n",
       "        text-align: right;\n",
       "    }\n",
       "</style>\n",
       "<table border=\"1\" class=\"dataframe\">\n",
       "  <thead>\n",
       "    <tr style=\"text-align: right;\">\n",
       "      <th></th>\n",
       "      <th>gender</th>\n",
       "      <th>car</th>\n",
       "      <th>reality</th>\n",
       "      <th>child_num</th>\n",
       "      <th>income_total</th>\n",
       "      <th>income_type</th>\n",
       "      <th>edu_type</th>\n",
       "      <th>family_type</th>\n",
       "      <th>house_type</th>\n",
       "      <th>DAYS_BIRTH</th>\n",
       "      <th>DAYS_EMPLOYED</th>\n",
       "      <th>work_phone</th>\n",
       "      <th>phone</th>\n",
       "      <th>email</th>\n",
       "      <th>occyp_type</th>\n",
       "      <th>family_size</th>\n",
       "      <th>begin_month</th>\n",
       "      <th>id</th>\n",
       "      <th>age</th>\n",
       "    </tr>\n",
       "  </thead>\n",
       "  <tbody>\n",
       "    <tr>\n",
       "      <th>0</th>\n",
       "      <td>M</td>\n",
       "      <td>Y</td>\n",
       "      <td>N</td>\n",
       "      <td>0</td>\n",
       "      <td>112500.0</td>\n",
       "      <td>Pensioner</td>\n",
       "      <td>Secondary / secondary special</td>\n",
       "      <td>Civil marriage</td>\n",
       "      <td>House / apartment</td>\n",
       "      <td>21990</td>\n",
       "      <td>0</td>\n",
       "      <td>0</td>\n",
       "      <td>1</td>\n",
       "      <td>0</td>\n",
       "      <td>NaN</td>\n",
       "      <td>2.0</td>\n",
       "      <td>60.0</td>\n",
       "      <td>1401</td>\n",
       "      <td>60</td>\n",
       "    </tr>\n",
       "  </tbody>\n",
       "</table>\n",
       "</div>"
      ],
      "text/plain": [
       "  gender car reality  child_num  income_total income_type  \\\n",
       "0      M   Y       N          0      112500.0   Pensioner   \n",
       "\n",
       "                        edu_type     family_type         house_type  \\\n",
       "0  Secondary / secondary special  Civil marriage  House / apartment   \n",
       "\n",
       "   DAYS_BIRTH  DAYS_EMPLOYED  work_phone  phone  email occyp_type  \\\n",
       "0       21990              0           0      1      0        NaN   \n",
       "\n",
       "   family_size  begin_month    id  age  \n",
       "0          2.0         60.0  1401   60  "
      ]
     },
     "execution_count": 55,
     "metadata": {},
     "output_type": "execute_result"
    }
   ],
   "source": [
    "X_test['age'] = round(X_test['DAYS_BIRTH']/365,0).astype(np.int32)\n",
    "X_test.head(1)"
   ]
  },
  {
   "cell_type": "markdown",
   "id": "732fa32a",
   "metadata": {},
   "source": [
    "### 시각화해서 분포 확인하기"
   ]
  },
  {
   "cell_type": "code",
   "execution_count": 56,
   "id": "a262a8ca",
   "metadata": {},
   "outputs": [
    {
     "data": {
      "image/png": "[encoded data removed]",
      "text/plain": [
       "<Figure size 432x288 with 1 Axes>"
      ]
     },
     "metadata": {
      "needs_background": "light"
     },
     "output_type": "display_data"
    }
   ],
   "source": [
    "X_train['age'].plot.hist(bins = range(10,80,10), color = 'c', edgecolor = 'k')\n",
    "\n",
    "plt.xlabel('age')\n",
    "plt.title('Age distribution')\n",
    "plt.show()"
   ]
  },
  {
   "cell_type": "markdown",
   "id": "ff487038",
   "metadata": {},
   "source": [
    "- 시각화한 결과, 데이터에 30, 40, 50대가 주로 이루고 있음"
   ]
  },
  {
   "cell_type": "markdown",
   "id": "622f5186",
   "metadata": {},
   "source": [
    "### 'age_group' feature 생성 -> age으로 변환 작업"
   ]
  },
  {
   "cell_type": "code",
   "execution_count": 57,
   "id": "5d16026a",
   "metadata": {},
   "outputs": [],
   "source": [
    "X_train['age_group'] = X_train['age'].copy()\n",
    "X_test['age_group'] = X_test['age'].copy()"
   ]
  },
  {
   "cell_type": "code",
   "execution_count": 58,
   "id": "cbe3ff19",
   "metadata": {},
   "outputs": [],
   "source": [
    "X_train['age_group'] = X_train['age_group'].replace({21, 22, 23, 24, 25, 26, 27, 27, 28, 29}, '20대')\n",
    "X_train['age_group'] = X_train['age_group'].replace({30, 31, 32, 33, 34, 35, 36, 37, 38, 39}, '30대')\n",
    "X_train['age_group'] = X_train['age_group'].replace({40, 41, 42, 43, 44, 45, 46, 47, 48, 49}, '40대')\n",
    "X_train['age_group'] = X_train['age_group'].replace({50, 51, 52, 53, 54, 55, 56, 57, 58, 59}, '50대')\n",
    "X_train['age_group'] = X_train['age_group'].replace({60, 61, 62, 63, 64, 65, 66, 67, 68, 69}, '60대')\n"
   ]
  },
  {
   "cell_type": "code",
   "execution_count": 59,
   "id": "b098b95e",
   "metadata": {},
   "outputs": [
    {
     "data": {
      "text/plain": [
       "30대    7505\n",
       "40대    6886\n",
       "50대    5695\n",
       "20대    3284\n",
       "60대    3081\n",
       "Name: age_group, dtype: int64"
      ]
     },
     "execution_count": 59,
     "metadata": {},
     "output_type": "execute_result"
    }
   ],
   "source": [
    "X_train['age_group'].value_counts()"
   ]
  },
  {
   "cell_type": "code",
   "execution_count": 60,
   "id": "eb32bc6b",
   "metadata": {},
   "outputs": [],
   "source": [
    "X_test['age_group'] = X_test['age_group'].replace({21, 22, 23, 24, 25, 26, 27, 27, 28, 29}, '20대')\n",
    "X_test['age_group'] = X_test['age_group'].replace({30, 31, 32, 33, 34, 35, 36, 37, 38, 39}, '30대')\n",
    "X_test['age_group'] = X_test['age_group'].replace({40, 41, 42, 43, 44, 45, 46, 47, 48, 49}, '40대')\n",
    "X_test['age_group'] = X_test['age_group'].replace({50, 51, 52, 53, 54, 55, 56, 57, 58, 59}, '50대')\n",
    "X_test['age_group'] = X_test['age_group'].replace({60, 61, 62, 63, 64, 65, 66, 67, 68, 69}, '60대')\n"
   ]
  },
  {
   "cell_type": "code",
   "execution_count": 61,
   "id": "9b867f09",
   "metadata": {},
   "outputs": [
    {
     "data": {
      "text/plain": [
       "30대    2805\n",
       "40대    2608\n",
       "50대    2209\n",
       "20대    1191\n",
       "60대    1187\n",
       "Name: age_group, dtype: int64"
      ]
     },
     "execution_count": 61,
     "metadata": {},
     "output_type": "execute_result"
    }
   ],
   "source": [
    "X_test['age_group'].value_counts()"
   ]
  },
  {
   "cell_type": "markdown",
   "id": "2073e3e1",
   "metadata": {},
   "source": [
    "### 'year of service' feature 생성 -> DAYS_EMPLOYED으로 변환 작업\n",
    "- 근무년수"
   ]
  },
  {
   "cell_type": "code",
   "execution_count": 62,
   "id": "23ee5a35",
   "metadata": {},
   "outputs": [
    {
     "data": {
      "text/html": [
       "<div>\n",
       "<style scoped>\n",
       "    .dataframe tbody tr th:only-of-type {\n",
       "        vertical-align: middle;\n",
       "    }\n",
       "\n",
       "    .dataframe tbody tr th {\n",
       "        vertical-align: top;\n",
       "    }\n",
       "\n",
       "    .dataframe thead th {\n",
       "        text-align: right;\n",
       "    }\n",
       "</style>\n",
       "<table border=\"1\" class=\"dataframe\">\n",
       "  <thead>\n",
       "    <tr style=\"text-align: right;\">\n",
       "      <th></th>\n",
       "      <th>gender</th>\n",
       "      <th>car</th>\n",
       "      <th>reality</th>\n",
       "      <th>child_num</th>\n",
       "      <th>income_total</th>\n",
       "      <th>income_type</th>\n",
       "      <th>edu_type</th>\n",
       "      <th>family_type</th>\n",
       "      <th>house_type</th>\n",
       "      <th>DAYS_BIRTH</th>\n",
       "      <th>...</th>\n",
       "      <th>work_phone</th>\n",
       "      <th>phone</th>\n",
       "      <th>email</th>\n",
       "      <th>occyp_type</th>\n",
       "      <th>family_size</th>\n",
       "      <th>begin_month</th>\n",
       "      <th>id</th>\n",
       "      <th>age</th>\n",
       "      <th>age_group</th>\n",
       "      <th>year_of_service</th>\n",
       "    </tr>\n",
       "  </thead>\n",
       "  <tbody>\n",
       "    <tr>\n",
       "      <th>0</th>\n",
       "      <td>F</td>\n",
       "      <td>N</td>\n",
       "      <td>N</td>\n",
       "      <td>0</td>\n",
       "      <td>202500.0</td>\n",
       "      <td>Commercial associate</td>\n",
       "      <td>Higher education</td>\n",
       "      <td>Married</td>\n",
       "      <td>Municipal apartment</td>\n",
       "      <td>13899</td>\n",
       "      <td>...</td>\n",
       "      <td>0</td>\n",
       "      <td>0</td>\n",
       "      <td>0</td>\n",
       "      <td>NaN</td>\n",
       "      <td>2.0</td>\n",
       "      <td>6.0</td>\n",
       "      <td>0</td>\n",
       "      <td>38</td>\n",
       "      <td>30대</td>\n",
       "      <td>13</td>\n",
       "    </tr>\n",
       "  </tbody>\n",
       "</table>\n",
       "<p>1 rows × 21 columns</p>\n",
       "</div>"
      ],
      "text/plain": [
       "  gender car reality  child_num  income_total           income_type  \\\n",
       "0      F   N       N          0      202500.0  Commercial associate   \n",
       "\n",
       "           edu_type family_type           house_type  DAYS_BIRTH  ...  \\\n",
       "0  Higher education     Married  Municipal apartment       13899  ...   \n",
       "\n",
       "   work_phone  phone  email  occyp_type family_size  begin_month  id  age  \\\n",
       "0           0      0      0         NaN         2.0          6.0   0   38   \n",
       "\n",
       "   age_group year_of_service  \n",
       "0        30대              13  \n",
       "\n",
       "[1 rows x 21 columns]"
      ]
     },
     "execution_count": 62,
     "metadata": {},
     "output_type": "execute_result"
    }
   ],
   "source": [
    "X_train['year_of_service'] = round(X_train['DAYS_EMPLOYED']/365,0).astype(np.int64)\n",
    "X_train.head(1)"
   ]
  },
  {
   "cell_type": "code",
   "execution_count": 63,
   "id": "cd3595c3",
   "metadata": {
    "scrolled": true
   },
   "outputs": [
    {
     "data": {
      "text/html": [
       "<div>\n",
       "<style scoped>\n",
       "    .dataframe tbody tr th:only-of-type {\n",
       "        vertical-align: middle;\n",
       "    }\n",
       "\n",
       "    .dataframe tbody tr th {\n",
       "        vertical-align: top;\n",
       "    }\n",
       "\n",
       "    .dataframe thead th {\n",
       "        text-align: right;\n",
       "    }\n",
       "</style>\n",
       "<table border=\"1\" class=\"dataframe\">\n",
       "  <thead>\n",
       "    <tr style=\"text-align: right;\">\n",
       "      <th></th>\n",
       "      <th>gender</th>\n",
       "      <th>car</th>\n",
       "      <th>reality</th>\n",
       "      <th>child_num</th>\n",
       "      <th>income_total</th>\n",
       "      <th>income_type</th>\n",
       "      <th>edu_type</th>\n",
       "      <th>family_type</th>\n",
       "      <th>house_type</th>\n",
       "      <th>DAYS_BIRTH</th>\n",
       "      <th>...</th>\n",
       "      <th>work_phone</th>\n",
       "      <th>phone</th>\n",
       "      <th>email</th>\n",
       "      <th>occyp_type</th>\n",
       "      <th>family_size</th>\n",
       "      <th>begin_month</th>\n",
       "      <th>id</th>\n",
       "      <th>age</th>\n",
       "      <th>age_group</th>\n",
       "      <th>year_of_service</th>\n",
       "    </tr>\n",
       "  </thead>\n",
       "  <tbody>\n",
       "    <tr>\n",
       "      <th>0</th>\n",
       "      <td>M</td>\n",
       "      <td>Y</td>\n",
       "      <td>N</td>\n",
       "      <td>0</td>\n",
       "      <td>112500.0</td>\n",
       "      <td>Pensioner</td>\n",
       "      <td>Secondary / secondary special</td>\n",
       "      <td>Civil marriage</td>\n",
       "      <td>House / apartment</td>\n",
       "      <td>21990</td>\n",
       "      <td>...</td>\n",
       "      <td>0</td>\n",
       "      <td>1</td>\n",
       "      <td>0</td>\n",
       "      <td>NaN</td>\n",
       "      <td>2.0</td>\n",
       "      <td>60.0</td>\n",
       "      <td>1401</td>\n",
       "      <td>60</td>\n",
       "      <td>60대</td>\n",
       "      <td>0</td>\n",
       "    </tr>\n",
       "    <tr>\n",
       "      <th>1</th>\n",
       "      <td>F</td>\n",
       "      <td>N</td>\n",
       "      <td>Y</td>\n",
       "      <td>0</td>\n",
       "      <td>135000.0</td>\n",
       "      <td>State servant</td>\n",
       "      <td>Higher education</td>\n",
       "      <td>Married</td>\n",
       "      <td>House / apartment</td>\n",
       "      <td>18964</td>\n",
       "      <td>...</td>\n",
       "      <td>0</td>\n",
       "      <td>1</td>\n",
       "      <td>0</td>\n",
       "      <td>Core staff</td>\n",
       "      <td>2.0</td>\n",
       "      <td>36.0</td>\n",
       "      <td>311</td>\n",
       "      <td>52</td>\n",
       "      <td>50대</td>\n",
       "      <td>24</td>\n",
       "    </tr>\n",
       "    <tr>\n",
       "      <th>2</th>\n",
       "      <td>F</td>\n",
       "      <td>N</td>\n",
       "      <td>Y</td>\n",
       "      <td>0</td>\n",
       "      <td>69372.0</td>\n",
       "      <td>Working</td>\n",
       "      <td>Secondary / secondary special</td>\n",
       "      <td>Married</td>\n",
       "      <td>House / apartment</td>\n",
       "      <td>15887</td>\n",
       "      <td>...</td>\n",
       "      <td>1</td>\n",
       "      <td>1</td>\n",
       "      <td>0</td>\n",
       "      <td>Laborers</td>\n",
       "      <td>2.0</td>\n",
       "      <td>40.0</td>\n",
       "      <td>2736</td>\n",
       "      <td>44</td>\n",
       "      <td>40대</td>\n",
       "      <td>1</td>\n",
       "    </tr>\n",
       "    <tr>\n",
       "      <th>3</th>\n",
       "      <td>M</td>\n",
       "      <td>Y</td>\n",
       "      <td>N</td>\n",
       "      <td>0</td>\n",
       "      <td>112500.0</td>\n",
       "      <td>Commercial associate</td>\n",
       "      <td>Secondary / secondary special</td>\n",
       "      <td>Married</td>\n",
       "      <td>House / apartment</td>\n",
       "      <td>19270</td>\n",
       "      <td>...</td>\n",
       "      <td>1</td>\n",
       "      <td>0</td>\n",
       "      <td>0</td>\n",
       "      <td>Drivers</td>\n",
       "      <td>2.0</td>\n",
       "      <td>41.0</td>\n",
       "      <td>8077</td>\n",
       "      <td>53</td>\n",
       "      <td>50대</td>\n",
       "      <td>7</td>\n",
       "    </tr>\n",
       "    <tr>\n",
       "      <th>4</th>\n",
       "      <td>F</td>\n",
       "      <td>Y</td>\n",
       "      <td>Y</td>\n",
       "      <td>0</td>\n",
       "      <td>225000.0</td>\n",
       "      <td>State servant</td>\n",
       "      <td>Higher education</td>\n",
       "      <td>Married</td>\n",
       "      <td>House / apartment</td>\n",
       "      <td>17822</td>\n",
       "      <td>...</td>\n",
       "      <td>1</td>\n",
       "      <td>0</td>\n",
       "      <td>0</td>\n",
       "      <td>Managers</td>\n",
       "      <td>2.0</td>\n",
       "      <td>8.0</td>\n",
       "      <td>5261</td>\n",
       "      <td>49</td>\n",
       "      <td>40대</td>\n",
       "      <td>26</td>\n",
       "    </tr>\n",
       "  </tbody>\n",
       "</table>\n",
       "<p>5 rows × 21 columns</p>\n",
       "</div>"
      ],
      "text/plain": [
       "  gender car reality  child_num  income_total           income_type  \\\n",
       "0      M   Y       N          0      112500.0             Pensioner   \n",
       "1      F   N       Y          0      135000.0         State servant   \n",
       "2      F   N       Y          0       69372.0               Working   \n",
       "3      M   Y       N          0      112500.0  Commercial associate   \n",
       "4      F   Y       Y          0      225000.0         State servant   \n",
       "\n",
       "                        edu_type     family_type         house_type  \\\n",
       "0  Secondary / secondary special  Civil marriage  House / apartment   \n",
       "1               Higher education         Married  House / apartment   \n",
       "2  Secondary / secondary special         Married  House / apartment   \n",
       "3  Secondary / secondary special         Married  House / apartment   \n",
       "4               Higher education         Married  House / apartment   \n",
       "\n",
       "   DAYS_BIRTH  ...  work_phone  phone  email  occyp_type family_size  \\\n",
       "0       21990  ...           0      1      0         NaN         2.0   \n",
       "1       18964  ...           0      1      0  Core staff         2.0   \n",
       "2       15887  ...           1      1      0    Laborers         2.0   \n",
       "3       19270  ...           1      0      0     Drivers         2.0   \n",
       "4       17822  ...           1      0      0    Managers         2.0   \n",
       "\n",
       "   begin_month    id  age  age_group year_of_service  \n",
       "0         60.0  1401   60        60대               0  \n",
       "1         36.0   311   52        50대              24  \n",
       "2         40.0  2736   44        40대               1  \n",
       "3         41.0  8077   53        50대               7  \n",
       "4          8.0  5261   49        40대              26  \n",
       "\n",
       "[5 rows x 21 columns]"
      ]
     },
     "execution_count": 63,
     "metadata": {},
     "output_type": "execute_result"
    }
   ],
   "source": [
    "X_test['year_of_service'] = round(X_test['DAYS_EMPLOYED']/365,0).astype(np.int64)\n",
    "X_test.head(5)"
   ]
  },
  {
   "cell_type": "markdown",
   "id": "8e1f290b",
   "metadata": {},
   "source": [
    "### 'years_group' feature 생성 -> year_of_service으로 변환 작업\n",
    "- 근무경력 기준"
   ]
  },
  {
   "cell_type": "code",
   "execution_count": 64,
   "id": "ce2dd715",
   "metadata": {},
   "outputs": [],
   "source": [
    "X_train['years_group'] = X_train['year_of_service'].copy()\n",
    "X_test['years_group'] = X_test['year_of_service'].copy()"
   ]
  },
  {
   "cell_type": "code",
   "execution_count": 65,
   "id": "a3fe4b5b",
   "metadata": {
    "scrolled": true
   },
   "outputs": [
    {
     "data": {
      "text/plain": [
       "0     5118\n",
       "1     2322\n",
       "2     2168\n",
       "3     2159\n",
       "4     2023\n",
       "5     1755\n",
       "6     1486\n",
       "7     1404\n",
       "8     1253\n",
       "9     1118\n",
       "10     877\n",
       "11     665\n",
       "15     556\n",
       "12     532\n",
       "13     492\n",
       "14     355\n",
       "20     237\n",
       "17     225\n",
       "16     207\n",
       "19     203\n",
       "18     171\n",
       "21     158\n",
       "22     129\n",
       "23     115\n",
       "24      96\n",
       "27      87\n",
       "26      84\n",
       "25      84\n",
       "28      67\n",
       "29      55\n",
       "30      42\n",
       "33      42\n",
       "31      29\n",
       "41      28\n",
       "34      25\n",
       "32      21\n",
       "35      20\n",
       "36      11\n",
       "40       9\n",
       "38       8\n",
       "37       7\n",
       "39       5\n",
       "43       3\n",
       "Name: years_group, dtype: int64"
      ]
     },
     "execution_count": 65,
     "metadata": {},
     "output_type": "execute_result"
    }
   ],
   "source": [
    "X_train['years_group'].value_counts(ascending = False)"
   ]
  },
  {
   "cell_type": "code",
   "execution_count": 66,
   "id": "c84ce5a0",
   "metadata": {},
   "outputs": [],
   "source": [
    "X_train['years_group'] = X_train['years_group'].replace(0, '근무경력없음')\n",
    "X_train['years_group'] = X_train['years_group'].replace({1,2,3}, '1~3년')\n",
    "X_train['years_group'] = X_train['years_group'].replace({4,5,6}, '4~6년')\n",
    "X_train['years_group'] = X_train['years_group'].replace({7,8,9}, '7~9년')\n",
    "X_train['years_group'] = X_train['years_group'].replace({10,11,12,13,14,15}, '10~15년')\n",
    "X_train['years_group'] = X_train['years_group'].replace({16,17,18,19,20}, '16~20년')\n",
    "X_train['years_group'] = X_train['years_group'].replace({21,22,23,24,25}, '21년~25년')\n",
    "X_train['years_group'] = X_train['years_group'].replace({26,27,28,29,30}, '26년~30년')\n",
    "X_train['years_group'] = X_train['years_group'].replace({31,32,33,34,35,36,37,38,39,40,41,43}, '31년이상')"
   ]
  },
  {
   "cell_type": "code",
   "execution_count": 67,
   "id": "891d8dd4",
   "metadata": {},
   "outputs": [
    {
     "data": {
      "text/plain": [
       "1~3년       6649\n",
       "4~6년       5264\n",
       "근무경력없음     5118\n",
       "7~9년       3775\n",
       "10~15년     3477\n",
       "16~20년     1043\n",
       "21년~25년     582\n",
       "26년~30년     335\n",
       "31년이상       208\n",
       "Name: years_group, dtype: int64"
      ]
     },
     "execution_count": 67,
     "metadata": {},
     "output_type": "execute_result"
    }
   ],
   "source": [
    "X_train['years_group'].value_counts()"
   ]
  },
  {
   "cell_type": "code",
   "execution_count": 68,
   "id": "89840017",
   "metadata": {},
   "outputs": [],
   "source": [
    "X_test['years_group'] = X_test['years_group'].replace(0, '근무경력없음')\n",
    "X_test['years_group'] = X_test['years_group'].replace({1,2,3}, '1~3년')\n",
    "X_test['years_group'] = X_test['years_group'].replace({4,5,6}, '4~6년')\n",
    "X_test['years_group'] = X_test['years_group'].replace({7,8,9}, '7~9년')\n",
    "X_test['years_group'] = X_test['years_group'].replace({10,11,12,13,14,15}, '10~15년')\n",
    "X_test['years_group'] = X_test['years_group'].replace({16,17,18,19,20}, '16~20년')\n",
    "X_test['years_group'] = X_test['years_group'].replace({21,22,23,24,25}, '21년~25년')\n",
    "X_test['years_group'] = X_test['years_group'].replace({26,27,28,29,30}, '26년~30년')\n",
    "X_test['years_group'] = X_test['years_group'].replace({31,32,33,34,35,36,37,38,39,40,41,42, 43}, '31년이상')"
   ]
  },
  {
   "cell_type": "code",
   "execution_count": 69,
   "id": "ed45c973",
   "metadata": {},
   "outputs": [
    {
     "data": {
      "text/plain": [
       "1~3년       2430\n",
       "4~6년       2055\n",
       "근무경력없음     1922\n",
       "7~9년       1478\n",
       "10~15년     1282\n",
       "16~20년      412\n",
       "21년~25년     235\n",
       "26년~30년     106\n",
       "31년이상        80\n",
       "Name: years_group, dtype: int64"
      ]
     },
     "execution_count": 69,
     "metadata": {},
     "output_type": "execute_result"
    }
   ],
   "source": [
    "X_test['years_group'].value_counts()"
   ]
  },
  {
   "cell_type": "markdown",
   "id": "5c8066f2",
   "metadata": {},
   "source": [
    "### DAYS_BIRTH_month, DAYS_BIRTH_week 피처 생성 \n",
    "- DAYS_BIRTH 변환 작업"
   ]
  },
  {
   "cell_type": "code",
   "execution_count": 70,
   "id": "63f8cc3a",
   "metadata": {},
   "outputs": [],
   "source": [
    "# DAYS_BIRTH\n",
    "X_train['DAYS_BIRTH_month']=np.floor((X_train['DAYS_BIRTH'])/30)-((np.floor((X_train['DAYS_BIRTH'])/30)/12).astype(int)*12)\n",
    "X_train['DAYS_BIRTH_week']=np.floor((X_train['DAYS_BIRTH'])/7)-((np.floor((X_train['DAYS_BIRTH'])/7)/4).astype(int)*4)"
   ]
  },
  {
   "cell_type": "code",
   "execution_count": 71,
   "id": "eaa43e1b",
   "metadata": {},
   "outputs": [],
   "source": [
    "X_train['DAYS_BIRTH_month'] = X_train['DAYS_BIRTH_month'].astype(int)\n",
    "X_train['DAYS_BIRTH_week'] = X_train['DAYS_BIRTH_week'].astype(int)"
   ]
  },
  {
   "cell_type": "code",
   "execution_count": 72,
   "id": "b9ecd190",
   "metadata": {},
   "outputs": [],
   "source": [
    "X_test['DAYS_BIRTH_month']=np.floor((X_test['DAYS_BIRTH'])/30)-((np.floor((X_test['DAYS_BIRTH'])/30)/12).astype(int)*12)\n",
    "X_test['DAYS_BIRTH_week']=np.floor((X_test['DAYS_BIRTH'])/7)-((np.floor((X_test['DAYS_BIRTH'])/7)/4).astype(int)*4)"
   ]
  },
  {
   "cell_type": "code",
   "execution_count": 73,
   "id": "c1d3d9a4",
   "metadata": {},
   "outputs": [],
   "source": [
    "X_test['DAYS_BIRTH_month'] = X_test['DAYS_BIRTH_month'].astype(int)\n",
    "X_test['DAYS_BIRTH_week'] = X_test['DAYS_BIRTH_week'].astype(int)"
   ]
  },
  {
   "cell_type": "markdown",
   "id": "66a8a826",
   "metadata": {},
   "source": [
    "### DAYS_EMPLOYED_month, DAYS_EMPLOYED_week 피처 생성\n",
    "- DAYS_EMPLOYED 변환 작업"
   ]
  },
  {
   "cell_type": "code",
   "execution_count": 74,
   "id": "2592c95a",
   "metadata": {},
   "outputs": [],
   "source": [
    "# DAYS_EMPLOYED\n",
    "X_train['DAYS_EMPLOYED_month']=np.floor((X_train['DAYS_EMPLOYED'])/30)-((np.floor((X_train['DAYS_EMPLOYED'])/30)/12).astype(int)*12)\n",
    "X_train['DAYS_EMPLOYED_week']=np.floor((X_train['DAYS_EMPLOYED'])/7)-((np.floor((X_train['DAYS_EMPLOYED'])/7)/4).astype(int)*4)"
   ]
  },
  {
   "cell_type": "code",
   "execution_count": 75,
   "id": "e1b537c4",
   "metadata": {},
   "outputs": [],
   "source": [
    "X_train['DAYS_EMPLOYED_month'] = X_train['DAYS_EMPLOYED_month'].astype(int)\n",
    "X_train['DAYS_EMPLOYED_week'] = X_train['DAYS_EMPLOYED_week'].astype(int)"
   ]
  },
  {
   "cell_type": "code",
   "execution_count": 76,
   "id": "9cb05298",
   "metadata": {},
   "outputs": [],
   "source": [
    "X_test['DAYS_EMPLOYED_month']=np.floor((X_test['DAYS_EMPLOYED'])/30)-((np.floor((X_test['DAYS_EMPLOYED'])/30)/12).astype(int)*12)\n",
    "X_test['DAYS_EMPLOYED_week']=np.floor((X_test['DAYS_EMPLOYED'])/7)-((np.floor((X_test['DAYS_EMPLOYED'])/7)/4).astype(int)*4)"
   ]
  },
  {
   "cell_type": "code",
   "execution_count": 77,
   "id": "30504565",
   "metadata": {},
   "outputs": [],
   "source": [
    "X_test['DAYS_EMPLOYED_month'] = X_test['DAYS_EMPLOYED_month'].astype(int)\n",
    "X_test['DAYS_EMPLOYED_week'] = X_test['DAYS_EMPLOYED_week'].astype(int)"
   ]
  },
  {
   "cell_type": "markdown",
   "id": "4bd606d4",
   "metadata": {},
   "source": [
    "### DAYS_EMPLOYED_month, DAYS_EMPLOYED_week 피처 생성\n",
    "- DAYS_EMPLOYED 변환 작업"
   ]
  },
  {
   "cell_type": "code",
   "execution_count": 78,
   "id": "5d39142c",
   "metadata": {},
   "outputs": [],
   "source": [
    "# before_EMPLOYED: 고용되기 전까지의 일수\n",
    "\n",
    "X_train['before_EMPLOYED']= X_train['DAYS_BIRTH']-X_train['DAYS_EMPLOYED']"
   ]
  },
  {
   "cell_type": "code",
   "execution_count": 79,
   "id": "6dc77741",
   "metadata": {},
   "outputs": [],
   "source": [
    "X_train['before_EMPLOYED_month']=np.floor((X_train['before_EMPLOYED'])/30)-((np.floor((X_train['before_EMPLOYED'])/30)/12).astype(int)*12)\n",
    "X_train['before_EMPLOYED_week']=np.floor((X_train['before_EMPLOYED'])/7)-((np.floor((X_train['before_EMPLOYED'])/7)/4).astype(int)*4)"
   ]
  },
  {
   "cell_type": "code",
   "execution_count": 80,
   "id": "1a00df74",
   "metadata": {},
   "outputs": [],
   "source": [
    "X_train['before_EMPLOYED'] = X_train['before_EMPLOYED'].astype(int)\n",
    "X_train['before_EMPLOYED_month'] = X_train['before_EMPLOYED_month'].astype(int)\n",
    "X_train['before_EMPLOYED_week'] = X_train['before_EMPLOYED_week'].astype(int)"
   ]
  },
  {
   "cell_type": "code",
   "execution_count": 81,
   "id": "8caad451",
   "metadata": {},
   "outputs": [],
   "source": [
    "# before_EMPLOYED: 고용되기 전까지의 일수\n",
    "\n",
    "X_test['before_EMPLOYED']= X_test['DAYS_BIRTH']-X_test['DAYS_EMPLOYED']\n",
    "X_test['before_EMPLOYED_month']=np.floor((X_test['before_EMPLOYED'])/30)-((np.floor((X_train['before_EMPLOYED'])/30)/12).astype(int)*12)\n",
    "X_test['before_EMPLOYED_week']=np.floor((X_test['before_EMPLOYED'])/7)-((np.floor((X_train['before_EMPLOYED'])/7)/4).astype(int)*4)"
   ]
  },
  {
   "cell_type": "code",
   "execution_count": 82,
   "id": "196090dc",
   "metadata": {},
   "outputs": [],
   "source": [
    "X_test['before_EMPLOYED'] = X_test['before_EMPLOYED'].astype(int)\n",
    "X_test['before_EMPLOYED_month'] = X_test['before_EMPLOYED_month'].astype(int)\n",
    "X_test['before_EMPLOYED_week'] = X_test['before_EMPLOYED_week'].astype(int)"
   ]
  },
  {
   "cell_type": "markdown",
   "id": "28ae1e86",
   "metadata": {},
   "source": [
    "### DAYS_BIRTH 범주화"
   ]
  },
  {
   "cell_type": "code",
   "execution_count": 83,
   "id": "ba1c8308",
   "metadata": {},
   "outputs": [],
   "source": [
    "a = []\n",
    "\n",
    "for i in X_train['DAYS_BIRTH']:\n",
    "    if i<=X_train['DAYS_BIRTH'].quantile(q=0.25):\n",
    "        a.append(1)\n",
    "    elif i<=X_train['DAYS_BIRTH'].quantile(q=0.5):\n",
    "        a.append(2)\n",
    "    elif i<=X_train['DAYS_BIRTH'].quantile(q=0.75):\n",
    "        a.append(3)\n",
    "    else:\n",
    "        a.append(4)\n",
    "\n",
    "X_train['DAYS_BIRTH_class'] = a\n",
    "\n",
    "a = []\n",
    "\n",
    "for i in X_test['DAYS_BIRTH']:\n",
    "    if i<=X_test['DAYS_BIRTH'].quantile(q=0.25):\n",
    "        a.append(1)\n",
    "    elif i<=X_test['DAYS_BIRTH'].quantile(q=0.5):\n",
    "        a.append(2)\n",
    "    elif i<=X_test['DAYS_BIRTH'].quantile(q=0.75):\n",
    "        a.append(3)\n",
    "    else:\n",
    "        a.append(4)\n",
    "\n",
    "X_test['DAYS_BIRTH_class'] = a"
   ]
  },
  {
   "cell_type": "markdown",
   "id": "fc312a07",
   "metadata": {},
   "source": [
    "### begin_month 범주화"
   ]
  },
  {
   "cell_type": "code",
   "execution_count": 84,
   "id": "72f9ead4",
   "metadata": {},
   "outputs": [],
   "source": [
    "a = []\n",
    "\n",
    "for i in X_train['begin_month']:\n",
    "    if i <= X_train['begin_month'].quantile(q=0.25):\n",
    "        a.append(1)\n",
    "    elif i <= X_train['begin_month'].quantile(q=0.5):\n",
    "        a.append(2)\n",
    "    elif i <= X_train['begin_month'].quantile(q=0.75):\n",
    "        a.append(3)\n",
    "    else:\n",
    "        a.append(4)\n",
    "\n",
    "X_train['begin_month_class'] = a\n",
    "\n",
    "a = []\n",
    "\n",
    "for i in X_test['begin_month']:\n",
    "    if i <= X_test['begin_month'].quantile(q=0.25):\n",
    "        a.append(1)\n",
    "    elif i <= X_test['begin_month'].quantile(q=0.5):\n",
    "        a.append(2)\n",
    "    elif i <= X_test['begin_month'].quantile(q=0.75):\n",
    "        a.append(3)\n",
    "    else:\n",
    "        a.append(4)\n",
    "\n",
    "X_test['begin_month_class'] = a\n"
   ]
  },
  {
   "cell_type": "markdown",
   "id": "2da7b066",
   "metadata": {},
   "source": [
    "### income_total*10000"
   ]
  },
  {
   "cell_type": "code",
   "execution_count": 85,
   "id": "57bc746d",
   "metadata": {},
   "outputs": [],
   "source": [
    "X_train['income_total'] = X_train['income_total'].astype(float)\n",
    "X_test['income_total'] = X_test['income_total'].astype(float)\n",
    "\n",
    "X_train['income_total*10000'] = X_train['income_total']/10000 \n",
    "X_test['income_total*10000'] = X_test['income_total']/10000"
   ]
  },
  {
   "cell_type": "markdown",
   "id": "95bd8e54",
   "metadata": {},
   "source": [
    "### income_total_dev & income_total_log"
   ]
  },
  {
   "cell_type": "code",
   "execution_count": 86,
   "id": "e0e8e83a",
   "metadata": {},
   "outputs": [],
   "source": [
    "def numeric_process(data):\n",
    "\n",
    "    # 편차 제곱 변수 생성\n",
    "    data['income_total_dev'] = (\n",
    "        data['income_total*10000'] - data['income_total*10000'].mean())**2\n",
    "\n",
    "    # 로그 변환\n",
    "    data['income_total_log'] = data['income_total*10000'].apply(np.log1p)\n",
    "\n",
    "    return data\n",
    "\n",
    "\n",
    "X_train = numeric_process(X_train)\n",
    "X_test = numeric_process(X_test)"
   ]
  },
  {
   "cell_type": "markdown",
   "id": "e000cb9e",
   "metadata": {},
   "source": [
    "### 연간소득/가족규모"
   ]
  },
  {
   "cell_type": "code",
   "execution_count": 87,
   "id": "8a621a24",
   "metadata": {},
   "outputs": [],
   "source": [
    "X_train['소득/가족'] = X_train['income_total'] / X_train['family_size']\n",
    "X_test['소득/가족'] = X_test['income_total'] / X_test['family_size']"
   ]
  },
  {
   "cell_type": "markdown",
   "id": "e0d2ba40",
   "metadata": {},
   "source": [
    "### 연간소득/자녀수"
   ]
  },
  {
   "cell_type": "code",
   "execution_count": 88,
   "id": "29baa1aa",
   "metadata": {},
   "outputs": [],
   "source": [
    "X_train['소득/자녀'] = X_train['income_total'] / X_train['child_num']\n",
    "X_test['소득/자녀'] = X_test['income_total'] / X_test['child_num']"
   ]
  },
  {
   "cell_type": "markdown",
   "id": "fc8bcacb",
   "metadata": {},
   "source": [
    "### 소득분류별 연간소득"
   ]
  },
  {
   "cell_type": "code",
   "execution_count": 89,
   "id": "20a08ed3",
   "metadata": {},
   "outputs": [],
   "source": [
    "object1 = X_train.groupby('income_type')['income_total'].agg([('income_type__총income_total', np.sum),\n",
    "                                            ('income_type_평균income_total', np.mean),\n",
    "                                            ('income_type_최대income_total', np.max),\n",
    "                                            ('income_type__최소income_total', np.min),\n",
    "                                            ('income_type__income_total표준편차', np.std),   \n",
    "                                            ('income_type__income_total변동계수', lambda x : np.std(x)/np.mean(x))]).reset_index().fillna(0)\n",
    "X_train= pd.merge(X_train, object1, on = 'income_type', how='left')\n",
    "\n",
    "\n",
    "\n",
    "object2 = X_test.groupby('income_type')['income_total'].agg([('income_type__총income_total', np.sum),\n",
    "                                            ('income_type_평균income_total', np.mean),\n",
    "                                            ('income_type_최대income_total', np.max),\n",
    "                                            ('income_type__최소income_total', np.min),\n",
    "                                            ('income_type__income_total표준편차', np.std),   \n",
    "                                            ('income_type__income_total변동계수', lambda x : np.std(x)/np.mean(x))]).reset_index().fillna(0)\n",
    "X_test= pd.merge(X_test, object2, on = 'income_type', how='left')"
   ]
  },
  {
   "cell_type": "markdown",
   "id": "5ad8a474",
   "metadata": {},
   "source": [
    "### 교육수준별 연간소득"
   ]
  },
  {
   "cell_type": "code",
   "execution_count": 90,
   "id": "3cd6e943",
   "metadata": {},
   "outputs": [],
   "source": [
    "object3 = X_train.groupby('edu_type')['income_total'].agg([('edu_type__총income_total', np.sum),\n",
    "                                            ('edu_type_평균income_total', np.mean),\n",
    "                                            ('edu_type_최대income_total', np.max),\n",
    "                                            ('edu_type__최소income_total', np.min),\n",
    "                                            ('edu_type__income_total표준편차', np.std),   \n",
    "                                            ('edu_type__income_total변동계수', lambda x : np.std(x)/np.mean(x))]).reset_index().fillna(0)\n",
    "X_train= pd.merge(X_train, object3, on = 'edu_type', how='left')\n",
    "\n",
    "\n",
    "\n",
    "object4 = X_test.groupby('edu_type')['income_total'].agg([('edu_type__총income_total', np.sum),\n",
    "                                            ('edu_type_평균income_total', np.mean),\n",
    "                                            ('edu_type_최대income_total', np.max),\n",
    "                                            ('edu_type__최소income_total', np.min),\n",
    "                                            ('edu_type__income_total표준편차', np.std),   \n",
    "                                            ('edu_type__income_total변동계수', lambda x : np.std(x)/np.mean(x))]).reset_index().fillna(0)\n",
    "X_test= pd.merge(X_test, object4, on = 'edu_type', how='left')"
   ]
  },
  {
   "cell_type": "markdown",
   "id": "8e3e72a0",
   "metadata": {},
   "source": [
    "### 결혼여부별 연간소득"
   ]
  },
  {
   "cell_type": "code",
   "execution_count": 91,
   "id": "c8e9b2ef",
   "metadata": {},
   "outputs": [],
   "source": [
    "object5 = X_train.groupby('family_type')['income_total'].agg([('family_type__총income_total', np.sum),\n",
    "                                            ('family_type_평균income_total', np.mean),\n",
    "                                            ('family_type_최대income_total', np.max),\n",
    "                                            ('family_type__최소income_total', np.min),\n",
    "                                            ('family_type__income_total표준편차', np.std),   \n",
    "                                            ('family_type__income_total변동계수', lambda x : np.std(x)/np.mean(x))]).reset_index().fillna(0)\n",
    "X_train= pd.merge(X_train, object5, on = 'family_type', how='left')\n",
    "\n",
    "\n",
    "\n",
    "object6 = X_test.groupby('family_type')['income_total'].agg([('family_type__총income_total', np.sum),\n",
    "                                            ('family_type_평균income_total', np.mean),\n",
    "                                            ('family_type_최대income_total', np.max),\n",
    "                                            ('family_type__최소income_total', np.min),\n",
    "                                            ('family_type__income_total표준편차', np.std),   \n",
    "                                            ('family_type__income_total변동계수', lambda x : np.std(x)/np.mean(x))]).reset_index().fillna(0)\n",
    "X_test= pd.merge(X_test, object6, on = 'family_type', how='left')"
   ]
  },
  {
   "cell_type": "markdown",
   "id": "2c0ec113",
   "metadata": {},
   "source": [
    "### 생활방식별 연간소득"
   ]
  },
  {
   "cell_type": "code",
   "execution_count": 92,
   "id": "b31ce997",
   "metadata": {},
   "outputs": [],
   "source": [
    "object7 = X_train.groupby('house_type')['income_total'].agg([('house_type__총income_total', np.sum),\n",
    "                                            ('house_type_평균income_total', np.mean),\n",
    "                                            ('house_type_최대income_total', np.max),\n",
    "                                            ('house_type__최소income_total', np.min),\n",
    "                                            ('house_type__income_total표준편차', np.std),   \n",
    "                                            ('house_type__income_total변동계수', lambda x : np.std(x)/np.mean(x))]).reset_index().fillna(0)\n",
    "X_train= pd.merge(X_train, object7, on = 'house_type', how='left')\n",
    "\n",
    "\n",
    "\n",
    "object8 = X_test.groupby('house_type')['income_total'].agg([('house_type__총income_total', np.sum),\n",
    "                                            ('house_type_평균income_total', np.mean),\n",
    "                                            ('house_type_최대income_total', np.max),\n",
    "                                            ('house_type__최소income_total', np.min),\n",
    "                                            ('house_type__income_total표준편차', np.std),   \n",
    "                                            ('house_type__income_total변동계수', lambda x : np.std(x)/np.mean(x))]).reset_index().fillna(0)\n",
    "X_test= pd.merge(X_test, object8, on = 'house_type', how='left')"
   ]
  },
  {
   "cell_type": "markdown",
   "id": "3aaeb4de",
   "metadata": {},
   "source": [
    "### 나이대별 연간소득"
   ]
  },
  {
   "cell_type": "code",
   "execution_count": 93,
   "id": "ab39ee2d",
   "metadata": {},
   "outputs": [],
   "source": [
    "object9 = X_train.groupby('age_group')['income_total'].agg([('Age_type__총income_total', np.sum),\n",
    "                                            ('Age_type_평균income_total', np.mean),\n",
    "                                            ('Age_type_최대income_total', np.max),\n",
    "                                            ('Age_type__최소income_total', np.min),\n",
    "                                            ('Age_type__income_total표준편차', np.std),   \n",
    "                                            ('Age_type__income_total변동계수', lambda x : np.std(x)/np.mean(x))]).reset_index().fillna(0)\n",
    "X_train= pd.merge(X_train, object9, on = 'age_group', how='left')\n",
    "\n",
    "\n",
    "\n",
    "object10 = X_test.groupby('age_group')['income_total'].agg([('Age_type__총income_total', np.sum),\n",
    "                                            ('Age_type_평균income_total', np.mean),\n",
    "                                            ('Age_type_최대income_total', np.max),\n",
    "                                            ('Age_type__최소income_total', np.min),\n",
    "                                            ('Age_type__income_total표준편차', np.std),   \n",
    "                                            ('Age_type__income_total변동계수', lambda x : np.std(x)/np.mean(x))]).reset_index().fillna(0)\n",
    "X_test= pd.merge(X_test, object10, on = 'age_group', how='left')"
   ]
  },
  {
   "cell_type": "markdown",
   "id": "c2f5ea46",
   "metadata": {},
   "source": [
    "### 직업유형별 연간소득"
   ]
  },
  {
   "cell_type": "code",
   "execution_count": 94,
   "id": "cc10bd76",
   "metadata": {},
   "outputs": [],
   "source": [
    "object11 = X_train.groupby('occyp_type')['income_total'].agg([('occyp_type__총income_total', np.sum),\n",
    "                                            ('occyp_type_평균income_total', np.mean),\n",
    "                                            ('occyp_type_최대income_total', np.max),\n",
    "                                            ('occyp_type__최소income_total', np.min),\n",
    "                                            ('occyp_type__income_total표준편차', np.std),   \n",
    "                                            ('occyp_type__income_total변동계수', lambda x : np.std(x)/np.mean(x))]).reset_index().fillna(0)\n",
    "X_train= pd.merge(X_train, object11, on = 'occyp_type', how='left')\n",
    "\n",
    "\n",
    "\n",
    "object12 = X_test.groupby('occyp_type')['income_total'].agg([('occyp_type__총income_total', np.sum),\n",
    "                                            ('occyp_type_평균income_total', np.mean),\n",
    "                                            ('occyp_type_최대income_total', np.max),\n",
    "                                            ('occyp_type__최소income_total', np.min),\n",
    "                                            ('occyp_type__income_total표준편차', np.std),   \n",
    "                                            ('occyp_type__income_total변동계수', lambda x : np.std(x)/np.mean(x))]).reset_index().fillna(0)\n",
    "X_test= pd.merge(X_test, object12, on = 'occyp_type', how='left')"
   ]
  },
  {
   "cell_type": "markdown",
   "id": "59f29f8f",
   "metadata": {},
   "source": [
    "### EMPLOYED_RATIO"
   ]
  },
  {
   "cell_type": "code",
   "execution_count": 95,
   "id": "38c23193",
   "metadata": {},
   "outputs": [],
   "source": [
    "X_train['EMPLOYED_RATIO'] = X_train['DAYS_EMPLOYED'] / X_train['DAYS_BIRTH']\n",
    "X_test['EMPLOYED_RATIO'] = X_test['DAYS_EMPLOYED'] / X_test['DAYS_BIRTH']"
   ]
  },
  {
   "cell_type": "markdown",
   "id": "ebf2dbfd",
   "metadata": {},
   "source": [
    "### income_per_days_birth"
   ]
  },
  {
   "cell_type": "code",
   "execution_count": 96,
   "id": "3350a6b4",
   "metadata": {},
   "outputs": [],
   "source": [
    "X_train['income_per_days_birth'] = X_train['income_total'] / X_train['DAYS_BIRTH']\n",
    "X_test['income_per_days_birth'] = X_test['income_total'] / X_test['DAYS_BIRTH']"
   ]
  },
  {
   "cell_type": "markdown",
   "id": "b39a6d0d",
   "metadata": {},
   "source": [
    "### income_per_days_birth_X_DAYS_BIRTH"
   ]
  },
  {
   "cell_type": "code",
   "execution_count": 97,
   "id": "129b0880",
   "metadata": {},
   "outputs": [],
   "source": [
    "X_train['income_per_days_birth_X_DAYS_BIRTH'] = X_train['income_per_days_birth'] * X_train['DAYS_BIRTH']\n",
    "X_test['income_per_days_birth_X_DAYS_BIRTH'] = X_test['income_per_days_birth'] * X_test['DAYS_BIRTH']"
   ]
  },
  {
   "cell_type": "markdown",
   "id": "95255089",
   "metadata": {},
   "source": [
    "### begin_month_X_DAYS_BIRTH"
   ]
  },
  {
   "cell_type": "code",
   "execution_count": 98,
   "id": "24e9a917",
   "metadata": {},
   "outputs": [],
   "source": [
    "X_train['begin_month_X_DAYS_BIRTH'] = X_train['begin_month'] * X_train['DAYS_BIRTH']\n",
    "X_test['begin_month_X_DAYS_BIRTH'] = X_test['begin_month'] * X_test['DAYS_BIRTH']"
   ]
  },
  {
   "cell_type": "markdown",
   "id": "f3171af0",
   "metadata": {},
   "source": [
    "### BIRTH*id"
   ]
  },
  {
   "cell_type": "code",
   "execution_count": 99,
   "id": "dffbb558",
   "metadata": {},
   "outputs": [],
   "source": [
    "X_train['BIRTH*id'] = X_train['DAYS_BIRTH'] * X_train['id']\n",
    "X_test['BIRTH*id'] = X_test['DAYS_BIRTH'] * X_test['id']"
   ]
  },
  {
   "cell_type": "markdown",
   "id": "8f881271",
   "metadata": {},
   "source": [
    "### EMP*id"
   ]
  },
  {
   "cell_type": "code",
   "execution_count": 100,
   "id": "f9513cbd",
   "metadata": {},
   "outputs": [],
   "source": [
    "X_train['EMP*id'] = X_train['DAYS_EMPLOYED'] * X_train['id']\n",
    "X_test['EMP*id'] = X_test['DAYS_EMPLOYED'] * X_test['id']"
   ]
  },
  {
   "cell_type": "markdown",
   "id": "61fa2d0f",
   "metadata": {},
   "source": [
    "### BIRTH*EMP"
   ]
  },
  {
   "cell_type": "code",
   "execution_count": 101,
   "id": "c3d894d0",
   "metadata": {},
   "outputs": [],
   "source": [
    "X_train['BIRTH*EMP'] = X_train['DAYS_BIRTH'] * X_train['DAYS_EMPLOYED']\n",
    "X_test['BIRTH*EMP'] = X_test['DAYS_BIRTH'] * X_test['DAYS_EMPLOYED']"
   ]
  },
  {
   "cell_type": "markdown",
   "id": "4ab790ac",
   "metadata": {},
   "source": [
    "### possible"
   ]
  },
  {
   "cell_type": "code",
   "execution_count": 102,
   "id": "0146202d",
   "metadata": {},
   "outputs": [],
   "source": [
    "X_train['possible'] = X_train['income_total'] / (X_train['DAYS_BIRTH'] + X_train['DAYS_EMPLOYED'])\n",
    "X_test['possible'] = X_test['income_total'] / (X_test['DAYS_BIRTH'] + X_test['DAYS_EMPLOYED'])"
   ]
  },
  {
   "cell_type": "markdown",
   "id": "24df0df4",
   "metadata": {},
   "source": [
    "### possible_class"
   ]
  },
  {
   "cell_type": "code",
   "execution_count": 103,
   "id": "d4851376",
   "metadata": {},
   "outputs": [],
   "source": [
    "a = []\n",
    "\n",
    "for i in X_train['possible'].clip(0, 35):\n",
    "    if i <= 5:\n",
    "        a.append(1)\n",
    "    elif i <= 10:\n",
    "        a.append(2)\n",
    "    elif i <= 15:\n",
    "        a.append(3)\n",
    "    elif i <= 20:\n",
    "        a.append(4)\n",
    "    elif i <= 25:\n",
    "        a.append(5)\n",
    "    elif i <= 30:\n",
    "        a.append(6)\n",
    "    elif i <= 35:\n",
    "        a.append(7)\n",
    "\n",
    "X_train['possible_class'] = a\n",
    "\n",
    "a = []\n",
    "\n",
    "for i in X_test['possible'].clip(0, 35):\n",
    "    if i <= 5:\n",
    "        a.append(1)\n",
    "    elif i <= 10:\n",
    "        a.append(2)\n",
    "    elif i <= 15:\n",
    "        a.append(3)\n",
    "    elif i <= 20:\n",
    "        a.append(4)\n",
    "    elif i <= 25:\n",
    "        a.append(5)\n",
    "    elif i <= 30:\n",
    "        a.append(6)\n",
    "    elif i <= 35:\n",
    "        a.append(7)\n",
    "\n",
    "X_test['possible_class'] = a"
   ]
  },
  {
   "cell_type": "markdown",
   "id": "1b0c3f25",
   "metadata": {},
   "source": [
    "### car_reality"
   ]
  },
  {
   "cell_type": "code",
   "execution_count": 104,
   "id": "ad089ac6",
   "metadata": {},
   "outputs": [],
   "source": [
    "X_train['car_reality'] = X_train['car'] + X_train['reality']\n",
    "X_test['car_reality'] = X_test['car'] + X_test['reality']"
   ]
  },
  {
   "cell_type": "markdown",
   "id": "e652a6be",
   "metadata": {},
   "source": [
    "### ID + DAYS_BIRTH"
   ]
  },
  {
   "cell_type": "code",
   "execution_count": 105,
   "id": "648cee07",
   "metadata": {},
   "outputs": [],
   "source": [
    "object1 = X_train.groupby('id')['DAYS_BIRTH'].agg([('id_총DAYS_BIRTH', np.sum),\n",
    "                                           #  ('구매건수', np.size),\n",
    "                                            ('id_평균DAYS_BIRTH', np.mean),\n",
    "                                            ('id_최대DAYS_BIRTH', np.max),\n",
    "                                            ('id_최소DAYS_BIRTH', np.min),\n",
    "                                            ('id_DAYS_BIRTH표준편차', np.std),   \n",
    "                                            ('id_DAYS_BIRTH변동계수', lambda X_train : np.std(X_train)/np.mean(X_train))]).reset_index().fillna(0)\n",
    "\n",
    "X_train= pd.merge(X_train, object1, on = 'id', how='left')\n",
    "\n",
    "object1 = X_test.groupby('id')['DAYS_BIRTH'].agg([('id_총DAYS_BIRTH', np.sum),\n",
    "                                           #  ('구매건수', np.size),\n",
    "                                            ('id_평균DAYS_BIRTH', np.mean),\n",
    "                                            ('id_최대DAYS_BIRTH', np.max),\n",
    "                                            ('id_최소DAYS_BIRTH', np.min),\n",
    "                                            ('id_DAYS_BIRTH표준편차', np.std),   \n",
    "                                            ('id_DAYS_BIRTH변동계수', lambda X_test : np.std(X_test)/np.mean(X_test))]).reset_index().fillna(0)\n",
    "\n",
    "X_test= pd.merge(X_test, object1, on = 'id', how='left')"
   ]
  },
  {
   "cell_type": "markdown",
   "id": "c33f2951",
   "metadata": {},
   "source": [
    "###  ID + begin_month"
   ]
  },
  {
   "cell_type": "code",
   "execution_count": 106,
   "id": "737ec812",
   "metadata": {},
   "outputs": [],
   "source": [
    "object90 = X_train.groupby('id')['begin_month'].agg([('id_총begin_months5', np.sum),\n",
    "                                           #  ('구매건수', np.size),\n",
    "                                            ('id_평균begin_month', np.mean),\n",
    "                                            ('id_최대begin_month', np.max),\n",
    "                                            ('id_최소begin_month', np.min),\n",
    "                                            ('id_begin_month표준편차', np.std),   \n",
    "                                            ('id_begin_month변동계수', lambda X_train : np.std(X_train)/np.mean(X_train))]).reset_index().fillna(0)\n",
    "\n",
    "X_train= pd.merge(X_train, object90, on = 'id', how='left')\n",
    "\n",
    "object91 = X_test.groupby('id')['begin_month'].agg([('id_총begin_months5', np.sum),\n",
    "                                           #  ('구매건수', np.size),\n",
    "                                            ('id_평균begin_month', np.mean),\n",
    "                                            ('id_최대begin_month', np.max),\n",
    "                                            ('id_최소begin_month', np.min),\n",
    "                                            ('id_begin_month표준편차', np.std),   \n",
    "                                            ('id_begin_month변동계수', lambda X_test : np.std(X_test)/np.mean(X_test))]).reset_index().fillna(0)\n",
    "\n",
    "X_test= pd.merge(X_test, object91, on = 'id', how='left')"
   ]
  },
  {
   "cell_type": "markdown",
   "id": "4365cc54",
   "metadata": {},
   "source": [
    "### possible 범주화 + begin_month_class 범주화 + DAYS_BIRTH_class 범주화"
   ]
  },
  {
   "cell_type": "code",
   "execution_count": 107,
   "id": "65103e53",
   "metadata": {},
   "outputs": [],
   "source": [
    "X_train['pos+beg+dBirth'] = X_train['possible_class'] + X_train['begin_month_class'] + X_train['DAYS_BIRTH_class']\n",
    "X_test['pos+beg+dBirth'] = X_test['possible_class'] + X_test['begin_month_class'] + X_test['DAYS_BIRTH_class']"
   ]
  },
  {
   "cell_type": "markdown",
   "id": "52f7d578",
   "metadata": {},
   "source": [
    "### income/before_EMPLOYED"
   ]
  },
  {
   "cell_type": "code",
   "execution_count": 108,
   "id": "a00d9f63",
   "metadata": {},
   "outputs": [],
   "source": [
    "X_train['income/before_EMPLOYED'] = X_train['income_total'] / X_train['before_EMPLOYED']\n",
    "X_test['income/before_EMPLOYED'] = X_test['income_total'] / X_test['before_EMPLOYED']"
   ]
  },
  {
   "cell_type": "markdown",
   "id": "29e2e36a",
   "metadata": {},
   "source": [
    "### edu_type 별 신뢰도 0의 비율"
   ]
  },
  {
   "cell_type": "code",
   "execution_count": 109,
   "id": "94237426",
   "metadata": {},
   "outputs": [],
   "source": [
    "a = []\n",
    "\n",
    "for i in X_train['edu_type']:\n",
    "    if i == 'Academic degree':\n",
    "        a.append(0.08)\n",
    "    elif i == 'Higher education':\n",
    "        a.append(0.126)\n",
    "    elif i == 'Incomplete higher':\n",
    "        a.append(0.111)\n",
    "    elif i == 'Lower Secondary':\n",
    "        a.append(0.108)\n",
    "    else:\n",
    "        a.append(0.12)\n",
    "\n",
    "X_train['edu_type_num'] = a\n",
    "\n",
    "a = []\n",
    "\n",
    "for i in X_test['edu_type']:\n",
    "    if i == 'Academic degree':\n",
    "        a.append(0.08)\n",
    "    elif i == 'Higher education':\n",
    "        a.append(0.126)\n",
    "    elif i == 'Incomplete higher':\n",
    "        a.append(0.111)\n",
    "    elif i == 'Lower Secondary':\n",
    "        a.append(0.108)\n",
    "    else:\n",
    "        a.append(0.12)\n",
    "\n",
    "\n",
    "X_test['edu_type_num'] = a\n"
   ]
  },
  {
   "cell_type": "markdown",
   "id": "55752084",
   "metadata": {},
   "source": [
    "### edu_type_num / DAYS_BIRTH "
   ]
  },
  {
   "cell_type": "code",
   "execution_count": 110,
   "id": "f5c5e920",
   "metadata": {},
   "outputs": [],
   "source": [
    "X_train['edu_type_num/DAYS_BIRTH'] = (X_train['edu_type_num'] / X_train['DAYS_BIRTH'])*10000\n",
    "X_test['edu_type_num/DAYS_BIRTH'] = (X_test['edu_type_num'] / X_test['DAYS_BIRTH'])*10000"
   ]
  },
  {
   "cell_type": "markdown",
   "id": "fc24e1fb",
   "metadata": {},
   "source": [
    "### edu_type_num * income_per_days_birth"
   ]
  },
  {
   "cell_type": "code",
   "execution_count": 111,
   "id": "6fa96291",
   "metadata": {},
   "outputs": [],
   "source": [
    "X_train['edu_type_num*income_per_days_birth'] = X_train['edu_type_num'] * X_train['income_per_days_birth']\n",
    "X_test['edu_type_num*income_per_days_birth'] = X_test['edu_type_num'] * X_test['income_per_days_birth']"
   ]
  },
  {
   "cell_type": "markdown",
   "id": "2f99f321",
   "metadata": {},
   "source": [
    "### 데이터 타입 변경"
   ]
  },
  {
   "cell_type": "code",
   "execution_count": 112,
   "id": "925aea01",
   "metadata": {},
   "outputs": [],
   "source": [
    "X_train['family_size'] = X_train['family_size'].astype(int)\n",
    "X_test['family_size'] = X_test['family_size'].astype(int)\n",
    "\n",
    "X_train['age'] = X_train['age'].astype('int64')\n",
    "X_test['age'] = X_test['age'].astype('int64')\n",
    "\n",
    "X_train['year_of_service'] = X_train['year_of_service'].astype('int64')\n",
    "X_test['year_of_service'] = X_test['year_of_service'].astype('int64')"
   ]
  },
  {
   "cell_type": "markdown",
   "id": "d834d373",
   "metadata": {},
   "source": [
    "## __CatBoost__"
   ]
  },
  {
   "cell_type": "code",
   "execution_count": 113,
   "id": "06e9c9a4",
   "metadata": {},
   "outputs": [],
   "source": [
    "numeric_features = ['income_total', 'family_size', 'begin_month', 'age', 'year_of_service',\n",
    "                    'DAYS_BIRTH_month', 'DAYS_BIRTH_week', 'DAYS_EMPLOYED_month', 'DAYS_EMPLOYED_week',\n",
    "                    'before_EMPLOYED', 'before_EMPLOYED_month', 'before_EMPLOYED_week','소득/가족','소득/자녀',\n",
    "                    'BIRTH*id', 'EMP*id', 'BIRTH*EMP', 'possible','id_총DAYS_BIRTH','id_평균DAYS_BIRTH', 'id_최대DAYS_BIRTH', 'id_최소DAYS_BIRTH', 'id_DAYS_BIRTH표준편차', 'id_DAYS_BIRTH변동계수',\n",
    "                    'income_type__총income_total', 'income_type_평균income_total', 'income_type_최대income_total', 'income_type__최소income_total', 'income_type__income_total표준편차', 'income_type__income_total변동계수',\n",
    "                    'edu_type__총income_total', 'edu_type_평균income_total', 'edu_type_최대income_total', 'edu_type__최소income_total','edu_type__income_total표준편차','edu_type__income_total변동계수',\n",
    "                    'family_type__총income_total', 'family_type_평균income_total', 'family_type_최대income_total', 'family_type__최소income_total','family_type__income_total표준편차','family_type__income_total변동계수',\n",
    "                    'house_type__총income_total','house_type_평균income_total','house_type_최대income_total','house_type__최소income_total','house_type__income_total표준편차','house_type__income_total변동계수',\n",
    "                    'Age_type__총income_total','Age_type_평균income_total','Age_type_최대income_total','Age_type__최소income_total','Age_type__income_total표준편차','Age_type__income_total변동계수',\n",
    "                    'EMPLOYED_RATIO','income_per_days_birth','income_per_days_birth_X_DAYS_BIRTH','begin_month_X_DAYS_BIRTH',\n",
    "                    'occyp_type__총income_total','occyp_type_평균income_total','occyp_type_최대income_total','occyp_type__최소income_total','occyp_type__income_total표준편차','occyp_type__income_total변동계수',\n",
    "                    'income/before_EMPLOYED','income_total_dev','income_total_log','edu_type_num','edu_type_num/DAYS_BIRTH','edu_type_num*income_per_days_birth']\n",
    "categorical_features= ['gender', 'car', 'reality', 'income_type', 'edu_type', 'family_type', 'house_type', 'occyp_type',\n",
    "                       'age_group', 'years_group', 'id','work_phone','phone','email','DAYS_BIRTH_class','possible_class',\n",
    "                       'car_reality','begin_month_class','pos+beg+dBirth']\n",
    "\n",
    "X_train = X_train[numeric_features+categorical_features]\n",
    "X_test = X_test[numeric_features+categorical_features]"
   ]
  },
  {
   "cell_type": "code",
   "execution_count": 1,
   "id": "65ac3e1a",
   "metadata": {},
   "outputs": [
    {
     "ename": "NameError",
     "evalue": "name 'X_train' is not defined",
     "output_type": "error",
     "traceback": [
      "\u001b[1;31m---------------------------------------------------------------------------\u001b[0m",
      "\u001b[1;31mNameError\u001b[0m                                 Traceback (most recent call last)",
      "Input \u001b[1;32mIn [1]\u001b[0m, in \u001b[0;36m<cell line: 1>\u001b[1;34m()\u001b[0m\n\u001b[1;32m----> 1\u001b[0m num_train \u001b[38;5;241m=\u001b[39m \u001b[43mX_train\u001b[49m[numeric_features]\n\u001b[0;32m      2\u001b[0m num_test \u001b[38;5;241m=\u001b[39m X_test[numeric_features]\n",
      "\u001b[1;31mNameError\u001b[0m: name 'X_train' is not defined"
     ]
    }
   ],
   "source": [
    "num_train = X_train[numeric_features]\n",
    "num_test = X_test[numeric_features]"
   ]
  },
  {
   "cell_type": "code",
   "execution_count": 115,
   "id": "f82b5305",
   "metadata": {},
   "outputs": [],
   "source": [
    "# Method: Using SHAP values\n",
    "import shap\n",
    "\n",
    "# DF, based on which importance is checked\n",
    "X_importance = num_test\n",
    "\n",
    "# Explain model predictions using shap library:\n",
    "model = CatBoostClassifier(verbose=False, random_state=0).fit(num_train, y_train)\n",
    "explainer = shap.TreeExplainer(model)\n",
    "shap_values = explainer.shap_values(X_importance)\n",
    "\n",
    "# Plot summary_plot as barplot:\n",
    "shap.summary_plot(shap_values, X_importance, plot_type='bar')\n"
   ]
  },
  {
   "cell_type": "code",
   "execution_count": 116,
   "id": "7d2fb558",
   "metadata": {},
   "outputs": [],
   "source": [
    "shap_sum = np.abs(shap_values).mean(axis=1)[1, :]\n",
    "importance_df = pd.DataFrame(\n",
    "    [X_importance.columns.tolist(), shap_sum.tolist()]).T\n",
    "importance_df.columns = ['column_name', 'shap_importance']\n",
    "importance_df = importance_df.sort_values('shap_importance', ascending=False)\n",
    "importance_df\n"
   ]
  },
  {
   "cell_type": "code",
   "execution_count": 117,
   "id": "22f02dc5",
   "metadata": {},
   "outputs": [],
   "source": [
    "# feature 중요도가 0 이상\n",
    "SHAP_THRESHOLD = 0\n",
    "features_selected = importance_df.query('shap_importance > @SHAP_THRESHOLD').column_name.tolist()"
   ]
  },
  {
   "cell_type": "code",
   "execution_count": null,
   "id": "b24a6657",
   "metadata": {},
   "outputs": [],
   "source": [
    "X_train = num_train[features_selected] + X_train[categorical_features]\n",
    "X_test = num_test[features_selected] + X_test[categorical_features]"
   ]
  },
  {
   "cell_type": "code",
   "execution_count": 118,
   "id": "a66c8a4f",
   "metadata": {},
   "outputs": [
    {
     "name": "stdout",
     "output_type": "stream",
     "text": [
      "\n",
      " training model for CV 0 \n",
      "\n",
      "CV Log Loss Score: 0.671601\n",
      "\n",
      " training model for CV 1 \n",
      "\n",
      "CV Log Loss Score: 0.678228\n",
      "\n",
      " training model for CV 2 \n",
      "\n",
      "CV Log Loss Score: 0.683230\n",
      "\n",
      " training model for CV 3 \n",
      "\n",
      "CV Log Loss Score: 0.678589\n",
      "\n",
      " training model for CV 4 \n",
      "\n",
      "CV Log Loss Score: 0.679261\n",
      "\tLog Loss: 0.678182\n"
     ]
    }
   ],
   "source": [
    "from sklearn.model_selection import StratifiedKFold\n",
    "\n",
    "skfold = StratifiedKFold(n_splits=5, shuffle=True, random_state=42)\n",
    "folds = []\n",
    "for train_index, valid_index in skfold.split(X_train, y_train):\n",
    "    folds.append((train_index, valid_index))\n",
    "\n",
    "cat_pred = np.zeros((X_train.shape[0], 3))\n",
    "cat_pred_test = np.zeros((X_test.shape[0], 3))\n",
    "\n",
    "for fold in range(5):\n",
    "  print(f'\\n training model for CV {fold} \\n')\n",
    "  train_index, valid_index = folds[fold]\n",
    "  train_x, valid_x = X_train.iloc[train_index], X_train.iloc[valid_index]\n",
    "  train_y, valid_y = y_train.iloc[train_index], y_train.iloc[valid_index]\n",
    "\n",
    "  model = CatBoostClassifier(\n",
    "      cat_features=categorical_features, verbose=False, random_state=0)\n",
    "  model.fit(train_x, train_y,\n",
    "            eval_set=[(valid_x, valid_y)],\n",
    "            early_stopping_rounds=100,\n",
    "            )\n",
    "\n",
    "  cat_pred[valid_index] = model.predict_proba(valid_x)\n",
    "  cat_pred_test += model.predict_proba(X_test) / 5\n",
    "  print(f'CV Log Loss Score: {log_loss(valid_y, cat_pred[valid_index]):.6f}')\n",
    "\n",
    "print(f'\\tLog Loss: {log_loss(y_train, cat_pred):.6f}')\n"
   ]
  },
  {
   "cell_type": "code",
   "execution_count": 119,
   "id": "34c2f1f9",
   "metadata": {},
   "outputs": [],
   "source": [
    "def plot_feature_importance(importance, names, model_type):\n",
    "\n",
    "    feature_importance = np.array(importance)\n",
    "    feature_names = np.array(names)\n",
    "\n",
    "    data = {'feature_names': feature_names,\n",
    "            'feature_importance': feature_importance}\n",
    "    fi_df = pd.DataFrame(data)\n",
    "\n",
    "    fi_df.sort_values(by=['feature_importance'], ascending=False, inplace=True)\n",
    "\n",
    "    plt.figure(figsize=(40, 30))\n",
    "\n",
    "    sns.barplot(x=fi_df['feature_importance'], y=fi_df['feature_names'])\n",
    "\n",
    "    plt.title(model_type + ' Feature Importance')\n",
    "    plt.xlabel('Feature Importance')\n",
    "    plt.ylabel('Feature Names')\n",
    "\n",
    "    plt.savefig('Feature Importance.png', dpi=400)"
   ]
  },
  {
   "cell_type": "code",
   "execution_count": 120,
   "id": "2205d29a",
   "metadata": {},
   "outputs": [
    {
     "data": {
      "image/png": "[encoded data removed]",
      "text/plain": [
       "<Figure size 2880x2160 with 1 Axes>"
      ]
     },
     "metadata": {
      "needs_background": "light"
     },
     "output_type": "display_data"
    }
   ],
   "source": [
    "plot_feature_importance(model.get_feature_importance(),X_test.columns,'CATBOOST')\n"
   ]
  },
  {
   "cell_type": "code",
   "execution_count": 121,
   "id": "1cbb758f",
   "metadata": {},
   "outputs": [],
   "source": [
    "sub = pd.read_csv('data/sample_submission.csv')"
   ]
  },
  {
   "cell_type": "code",
   "execution_count": 122,
   "id": "fa82a821",
   "metadata": {},
   "outputs": [],
   "source": [
    "sub.iloc[:, 1:] = cat_pred_test "
   ]
  },
  {
   "cell_type": "code",
   "execution_count": 123,
   "id": "841a0e90",
   "metadata": {},
   "outputs": [],
   "source": [
    "sub.to_csv(f\"submission_cat_all_3.csv\", index=False)"
   ]
  }
 ],
 "metadata": {
  "kernelspec": {
   "display_name": "Python 3 (ipykernel)",
   "language": "python",
   "name": "python3"
  },
  "language_info": {
   "codemirror_mode": {
    "name": "ipython",
    "version": 3
   },
   "file_extension": ".py",
   "mimetype": "text/x-python",
   "name": "python",
   "nbconvert_exporter": "python",
   "pygments_lexer": "ipython3",
   "version": "3.9.12"
  },
  "vscode": {
   "interpreter": {
    "hash": "0a6afe0b0dca26bed7d71640a78ce7616cd216d1dd54e297bce51db5f94c3b37"
   }
  }
 },
 "nbformat": 4,
 "nbformat_minor": 5
}
